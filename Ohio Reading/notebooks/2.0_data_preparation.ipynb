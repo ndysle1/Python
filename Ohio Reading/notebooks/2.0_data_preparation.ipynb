{
 "cells": [
  {
   "cell_type": "markdown",
   "metadata": {},
   "source": [
    "# Data Preparation"
   ]
  },
  {
   "cell_type": "markdown",
   "metadata": {},
   "source": [
    "### Settings/Functions\n",
    "Read in settings and functions."
   ]
  },
  {
   "cell_type": "code",
   "execution_count": 73,
   "metadata": {
    "scrolled": true
   },
   "outputs": [],
   "source": [
    "import pandas as pd\n",
    "import matplotlib.pyplot as plt\n",
    "import numpy as np\n",
    "import seaborn as sb\n",
    "import scipy as sp\n",
    "import sys\n",
    "import warnings\n",
    "from scipy import stats\n",
    "from scipy.stats import mstats\n",
    "warnings.filterwarnings(\"ignore\", category=RuntimeWarning)"
   ]
  },
  {
   "cell_type": "markdown",
   "metadata": {},
   "source": [
    "### Data\n",
    "Read in the final data set from the data understanding notebook."
   ]
  },
  {
   "cell_type": "code",
   "execution_count": 74,
   "metadata": {
    "scrolled": true
   },
   "outputs": [],
   "source": [
    "# Import original dataset\n",
    "data_loc = 'C://Users/User/Documents/GitHub/Python/Ohio Reading/data/'\n",
    "data = pd.read_csv(data_loc+'reading_prepped.csv')"
   ]
  },
  {
   "cell_type": "markdown",
   "metadata": {},
   "source": [
    "## More Cleaning"
   ]
  },
  {
   "cell_type": "markdown",
   "metadata": {},
   "source": [
    "### Duplicates"
   ]
  },
  {
   "cell_type": "markdown",
   "metadata": {},
   "source": [
    " * No duplicate column names exist in the dataset."
   ]
  },
  {
   "cell_type": "code",
   "execution_count": 75,
   "metadata": {
    "scrolled": true
   },
   "outputs": [
    {
     "name": "stdout",
     "output_type": "stream",
     "text": [
      "data shape: (584, 31)\n",
      "data shape: (584, 31)\n"
     ]
    }
   ],
   "source": [
    "# Checking for duplicate column names\n",
    "print(\"data shape: {}\".format(data.shape))\n",
    "data = data.loc[:,~data.columns.duplicated()]\n",
    "print(\"data shape: {}\".format(data.shape))"
   ]
  },
  {
   "cell_type": "markdown",
   "metadata": {},
   "source": [
    " * All variable names are in a clean, consistent format that is compatible for modeling."
   ]
  },
  {
   "cell_type": "markdown",
   "metadata": {},
   "source": [
    "### Variable Names"
   ]
  },
  {
   "cell_type": "code",
   "execution_count": 76,
   "metadata": {
    "scrolled": true
   },
   "outputs": [
    {
     "name": "stdout",
     "output_type": "stream",
     "text": [
      "year\n",
      "school\n",
      "subject\n",
      "number_tested\n",
      "pct_prof_or_above\n",
      "pct_adv\n",
      "pct_acc\n",
      "pct_prof\n",
      "pct_bsc\n",
      "pct_ltd\n",
      "tot_pop\n",
      "perc_male\n",
      "perc_female\n",
      "perc_under5\n",
      "perc_5to19\n",
      "perc_20plus\n",
      "perc_white\n",
      "perc_black\n",
      "perc_asian\n",
      "perc_other\n",
      "perc_nobach\n",
      "perc_bachplus\n",
      "perc_employ\n",
      "perc_unemploy\n",
      "median_inc\n",
      "perc_assist\n",
      "perc_noassist\n",
      "gini\n",
      "perc_poverty\n",
      "perc_nopoverty\n",
      "time_type\n"
     ]
    }
   ],
   "source": [
    "# Checking variable names\n",
    "for col in data.columns: \n",
    "    print(col) "
   ]
  },
  {
   "cell_type": "markdown",
   "metadata": {},
   "source": [
    "### Categorical Encoding"
   ]
  },
  {
   "cell_type": "code",
   "execution_count": 77,
   "metadata": {
    "scrolled": true
   },
   "outputs": [
    {
     "name": "stdout",
     "output_type": "stream",
     "text": [
      "data types: float64    24\n",
      "int64       5\n",
      "object      2\n",
      "dtype: int64\n"
     ]
    }
   ],
   "source": [
    "# Categorical Encoding\n",
    "print(\"data types: {}\".format(data.dtypes.value_counts()))"
   ]
  },
  {
   "cell_type": "code",
   "execution_count": 78,
   "metadata": {
    "scrolled": true
   },
   "outputs": [
    {
     "name": "stdout",
     "output_type": "stream",
     "text": [
      "<class 'pandas.core.frame.DataFrame'>\n",
      "RangeIndex: 584 entries, 0 to 583\n",
      "Data columns (total 31 columns):\n",
      " #   Column             Non-Null Count  Dtype  \n",
      "---  ------             --------------  -----  \n",
      " 0   year               584 non-null    int64  \n",
      " 1   school             584 non-null    object \n",
      " 2   subject            584 non-null    object \n",
      " 3   number_tested      584 non-null    int64  \n",
      " 4   pct_prof_or_above  584 non-null    float64\n",
      " 5   pct_adv            584 non-null    float64\n",
      " 6   pct_acc            584 non-null    float64\n",
      " 7   pct_prof           584 non-null    float64\n",
      " 8   pct_bsc            584 non-null    float64\n",
      " 9   pct_ltd            584 non-null    float64\n",
      " 10  tot_pop            584 non-null    int64  \n",
      " 11  perc_male          584 non-null    float64\n",
      " 12  perc_female        584 non-null    float64\n",
      " 13  perc_under5        584 non-null    float64\n",
      " 14  perc_5to19         584 non-null    float64\n",
      " 15  perc_20plus        584 non-null    float64\n",
      " 16  perc_white         455 non-null    float64\n",
      " 17  perc_black         455 non-null    float64\n",
      " 18  perc_asian         455 non-null    float64\n",
      " 19  perc_other         455 non-null    float64\n",
      " 20  perc_nobach        582 non-null    float64\n",
      " 21  perc_bachplus      582 non-null    float64\n",
      " 22  perc_employ        578 non-null    float64\n",
      " 23  perc_unemploy      578 non-null    float64\n",
      " 24  median_inc         584 non-null    int64  \n",
      " 25  perc_assist        584 non-null    float64\n",
      " 26  perc_noassist      584 non-null    float64\n",
      " 27  gini               584 non-null    float64\n",
      " 28  perc_poverty       584 non-null    float64\n",
      " 29  perc_nopoverty     584 non-null    float64\n",
      " 30  time_type          584 non-null    int64  \n",
      "dtypes: float64(24), int64(5), object(2)\n",
      "memory usage: 141.6+ KB\n"
     ]
    }
   ],
   "source": [
    "data.info()"
   ]
  },
  {
   "cell_type": "code",
   "execution_count": 79,
   "metadata": {
    "scrolled": true
   },
   "outputs": [
    {
     "name": "stdout",
     "output_type": "stream",
     "text": [
      "year                  object\n",
      "school                object\n",
      "subject               object\n",
      "number_tested          int64\n",
      "pct_prof_or_above    float64\n",
      "pct_adv              float64\n",
      "pct_acc              float64\n",
      "pct_prof             float64\n",
      "pct_bsc              float64\n",
      "pct_ltd              float64\n",
      "tot_pop                int64\n",
      "perc_male            float64\n",
      "perc_female          float64\n",
      "perc_under5          float64\n",
      "perc_5to19           float64\n",
      "perc_20plus          float64\n",
      "perc_white           float64\n",
      "perc_black           float64\n",
      "perc_asian           float64\n",
      "perc_other           float64\n",
      "perc_nobach          float64\n",
      "perc_bachplus        float64\n",
      "perc_employ          float64\n",
      "perc_unemploy        float64\n",
      "median_inc             int64\n",
      "perc_assist          float64\n",
      "perc_noassist        float64\n",
      "gini                 float64\n",
      "perc_poverty         float64\n",
      "perc_nopoverty       float64\n",
      "time_type              int64\n",
      "dtype: object\n"
     ]
    }
   ],
   "source": [
    "# Converting 'year' to a factor again\n",
    "data['year'] = data['year'].astype(object)\n",
    "print(data.dtypes) "
   ]
  },
  {
   "cell_type": "markdown",
   "metadata": {},
   "source": [
    "### Missing Data"
   ]
  },
  {
   "cell_type": "markdown",
   "metadata": {},
   "source": [
    " * As discussed in the previous notebook, the race/ethnicity variables will need to be removed due to the shear number of missing values. The remaining variables have very few missing variables so they will be imputed. For this project, I'll just be using the mean for the school district.\n",
    " * In this dataset, each school district appears for all four years (2007,2008,2012,2013). Since the education level variables only had 2 missing variables, I knew that I would have data to impute the mean. For the employment data though, I had six missing observations and needed to make sure that one school district was not missing all of its employment data. Once this was verified, the employment data was imputed using the mean for the school district as well."
   ]
  },
  {
   "cell_type": "code",
   "execution_count": 80,
   "metadata": {
    "scrolled": true
   },
   "outputs": [],
   "source": [
    "# Function for counting nulls\n",
    "def null_counts(df):\n",
    "    null_df = pd.DataFrame(df.isnull().sum(),columns=['null_count'])\n",
    "    null_df['null_fraction'] = null_df['null_count'] / df.shape[0]\n",
    "    null_df = null_df.sort_values('null_count',ascending=False)\n",
    "    return null_df"
   ]
  },
  {
   "cell_type": "code",
   "execution_count": 81,
   "metadata": {
    "scrolled": true
   },
   "outputs": [
    {
     "data": {
      "text/html": [
       "<div>\n",
       "<style scoped>\n",
       "    .dataframe tbody tr th:only-of-type {\n",
       "        vertical-align: middle;\n",
       "    }\n",
       "\n",
       "    .dataframe tbody tr th {\n",
       "        vertical-align: top;\n",
       "    }\n",
       "\n",
       "    .dataframe thead th {\n",
       "        text-align: right;\n",
       "    }\n",
       "</style>\n",
       "<table border=\"1\" class=\"dataframe\">\n",
       "  <thead>\n",
       "    <tr style=\"text-align: right;\">\n",
       "      <th></th>\n",
       "      <th>null_count</th>\n",
       "      <th>null_fraction</th>\n",
       "    </tr>\n",
       "  </thead>\n",
       "  <tbody>\n",
       "    <tr>\n",
       "      <th>perc_white</th>\n",
       "      <td>129</td>\n",
       "      <td>0.220890</td>\n",
       "    </tr>\n",
       "    <tr>\n",
       "      <th>perc_other</th>\n",
       "      <td>129</td>\n",
       "      <td>0.220890</td>\n",
       "    </tr>\n",
       "    <tr>\n",
       "      <th>perc_asian</th>\n",
       "      <td>129</td>\n",
       "      <td>0.220890</td>\n",
       "    </tr>\n",
       "    <tr>\n",
       "      <th>perc_black</th>\n",
       "      <td>129</td>\n",
       "      <td>0.220890</td>\n",
       "    </tr>\n",
       "    <tr>\n",
       "      <th>perc_unemploy</th>\n",
       "      <td>6</td>\n",
       "      <td>0.010274</td>\n",
       "    </tr>\n",
       "    <tr>\n",
       "      <th>perc_employ</th>\n",
       "      <td>6</td>\n",
       "      <td>0.010274</td>\n",
       "    </tr>\n",
       "    <tr>\n",
       "      <th>perc_bachplus</th>\n",
       "      <td>2</td>\n",
       "      <td>0.003425</td>\n",
       "    </tr>\n",
       "    <tr>\n",
       "      <th>perc_nobach</th>\n",
       "      <td>2</td>\n",
       "      <td>0.003425</td>\n",
       "    </tr>\n",
       "    <tr>\n",
       "      <th>year</th>\n",
       "      <td>0</td>\n",
       "      <td>0.000000</td>\n",
       "    </tr>\n",
       "    <tr>\n",
       "      <th>perc_nopoverty</th>\n",
       "      <td>0</td>\n",
       "      <td>0.000000</td>\n",
       "    </tr>\n",
       "    <tr>\n",
       "      <th>perc_poverty</th>\n",
       "      <td>0</td>\n",
       "      <td>0.000000</td>\n",
       "    </tr>\n",
       "    <tr>\n",
       "      <th>gini</th>\n",
       "      <td>0</td>\n",
       "      <td>0.000000</td>\n",
       "    </tr>\n",
       "    <tr>\n",
       "      <th>perc_noassist</th>\n",
       "      <td>0</td>\n",
       "      <td>0.000000</td>\n",
       "    </tr>\n",
       "    <tr>\n",
       "      <th>perc_assist</th>\n",
       "      <td>0</td>\n",
       "      <td>0.000000</td>\n",
       "    </tr>\n",
       "    <tr>\n",
       "      <th>median_inc</th>\n",
       "      <td>0</td>\n",
       "      <td>0.000000</td>\n",
       "    </tr>\n",
       "    <tr>\n",
       "      <th>perc_20plus</th>\n",
       "      <td>0</td>\n",
       "      <td>0.000000</td>\n",
       "    </tr>\n",
       "    <tr>\n",
       "      <th>school</th>\n",
       "      <td>0</td>\n",
       "      <td>0.000000</td>\n",
       "    </tr>\n",
       "    <tr>\n",
       "      <th>perc_5to19</th>\n",
       "      <td>0</td>\n",
       "      <td>0.000000</td>\n",
       "    </tr>\n",
       "    <tr>\n",
       "      <th>perc_under5</th>\n",
       "      <td>0</td>\n",
       "      <td>0.000000</td>\n",
       "    </tr>\n",
       "    <tr>\n",
       "      <th>perc_female</th>\n",
       "      <td>0</td>\n",
       "      <td>0.000000</td>\n",
       "    </tr>\n",
       "    <tr>\n",
       "      <th>perc_male</th>\n",
       "      <td>0</td>\n",
       "      <td>0.000000</td>\n",
       "    </tr>\n",
       "    <tr>\n",
       "      <th>tot_pop</th>\n",
       "      <td>0</td>\n",
       "      <td>0.000000</td>\n",
       "    </tr>\n",
       "    <tr>\n",
       "      <th>pct_ltd</th>\n",
       "      <td>0</td>\n",
       "      <td>0.000000</td>\n",
       "    </tr>\n",
       "    <tr>\n",
       "      <th>pct_bsc</th>\n",
       "      <td>0</td>\n",
       "      <td>0.000000</td>\n",
       "    </tr>\n",
       "    <tr>\n",
       "      <th>pct_prof</th>\n",
       "      <td>0</td>\n",
       "      <td>0.000000</td>\n",
       "    </tr>\n",
       "    <tr>\n",
       "      <th>pct_acc</th>\n",
       "      <td>0</td>\n",
       "      <td>0.000000</td>\n",
       "    </tr>\n",
       "    <tr>\n",
       "      <th>pct_adv</th>\n",
       "      <td>0</td>\n",
       "      <td>0.000000</td>\n",
       "    </tr>\n",
       "    <tr>\n",
       "      <th>pct_prof_or_above</th>\n",
       "      <td>0</td>\n",
       "      <td>0.000000</td>\n",
       "    </tr>\n",
       "    <tr>\n",
       "      <th>number_tested</th>\n",
       "      <td>0</td>\n",
       "      <td>0.000000</td>\n",
       "    </tr>\n",
       "    <tr>\n",
       "      <th>subject</th>\n",
       "      <td>0</td>\n",
       "      <td>0.000000</td>\n",
       "    </tr>\n",
       "    <tr>\n",
       "      <th>time_type</th>\n",
       "      <td>0</td>\n",
       "      <td>0.000000</td>\n",
       "    </tr>\n",
       "  </tbody>\n",
       "</table>\n",
       "</div>"
      ],
      "text/plain": [
       "                   null_count  null_fraction\n",
       "perc_white                129       0.220890\n",
       "perc_other                129       0.220890\n",
       "perc_asian                129       0.220890\n",
       "perc_black                129       0.220890\n",
       "perc_unemploy               6       0.010274\n",
       "perc_employ                 6       0.010274\n",
       "perc_bachplus               2       0.003425\n",
       "perc_nobach                 2       0.003425\n",
       "year                        0       0.000000\n",
       "perc_nopoverty              0       0.000000\n",
       "perc_poverty                0       0.000000\n",
       "gini                        0       0.000000\n",
       "perc_noassist               0       0.000000\n",
       "perc_assist                 0       0.000000\n",
       "median_inc                  0       0.000000\n",
       "perc_20plus                 0       0.000000\n",
       "school                      0       0.000000\n",
       "perc_5to19                  0       0.000000\n",
       "perc_under5                 0       0.000000\n",
       "perc_female                 0       0.000000\n",
       "perc_male                   0       0.000000\n",
       "tot_pop                     0       0.000000\n",
       "pct_ltd                     0       0.000000\n",
       "pct_bsc                     0       0.000000\n",
       "pct_prof                    0       0.000000\n",
       "pct_acc                     0       0.000000\n",
       "pct_adv                     0       0.000000\n",
       "pct_prof_or_above           0       0.000000\n",
       "number_tested               0       0.000000\n",
       "subject                     0       0.000000\n",
       "time_type                   0       0.000000"
      ]
     },
     "execution_count": 81,
     "metadata": {},
     "output_type": "execute_result"
    }
   ],
   "source": [
    "# Checking for null values\n",
    "null_counts(data)"
   ]
  },
  {
   "cell_type": "code",
   "execution_count": 82,
   "metadata": {
    "scrolled": true
   },
   "outputs": [
    {
     "name": "stdout",
     "output_type": "stream",
     "text": [
      "<class 'pandas.core.frame.DataFrame'>\n",
      "RangeIndex: 584 entries, 0 to 583\n",
      "Data columns (total 27 columns):\n",
      " #   Column             Non-Null Count  Dtype  \n",
      "---  ------             --------------  -----  \n",
      " 0   year               584 non-null    object \n",
      " 1   school             584 non-null    object \n",
      " 2   subject            584 non-null    object \n",
      " 3   number_tested      584 non-null    int64  \n",
      " 4   pct_prof_or_above  584 non-null    float64\n",
      " 5   pct_adv            584 non-null    float64\n",
      " 6   pct_acc            584 non-null    float64\n",
      " 7   pct_prof           584 non-null    float64\n",
      " 8   pct_bsc            584 non-null    float64\n",
      " 9   pct_ltd            584 non-null    float64\n",
      " 10  tot_pop            584 non-null    int64  \n",
      " 11  perc_male          584 non-null    float64\n",
      " 12  perc_female        584 non-null    float64\n",
      " 13  perc_under5        584 non-null    float64\n",
      " 14  perc_5to19         584 non-null    float64\n",
      " 15  perc_20plus        584 non-null    float64\n",
      " 16  perc_nobach        582 non-null    float64\n",
      " 17  perc_bachplus      582 non-null    float64\n",
      " 18  perc_employ        578 non-null    float64\n",
      " 19  perc_unemploy      578 non-null    float64\n",
      " 20  median_inc         584 non-null    int64  \n",
      " 21  perc_assist        584 non-null    float64\n",
      " 22  perc_noassist      584 non-null    float64\n",
      " 23  gini               584 non-null    float64\n",
      " 24  perc_poverty       584 non-null    float64\n",
      " 25  perc_nopoverty     584 non-null    float64\n",
      " 26  time_type          584 non-null    int64  \n",
      "dtypes: float64(20), int64(4), object(3)\n",
      "memory usage: 123.3+ KB\n"
     ]
    }
   ],
   "source": [
    "data = data.drop(['perc_white','perc_other','perc_asian','perc_black'], axis = 1) \n",
    "data.info()"
   ]
  },
  {
   "cell_type": "code",
   "execution_count": 83,
   "metadata": {
    "scrolled": true
   },
   "outputs": [],
   "source": [
    "# Imputing missing values by group for education values\n",
    "data['perc_nobach'] = data['perc_nobach'].fillna(data.groupby('school')['perc_nobach'].transform('mean'))\n",
    "data['perc_bachplus'] = data['perc_bachplus'].fillna(data.groupby('school')['perc_bachplus'].transform('mean'))"
   ]
  },
  {
   "cell_type": "code",
   "execution_count": 84,
   "metadata": {
    "scrolled": true
   },
   "outputs": [
    {
     "data": {
      "text/plain": [
       "<bound method NDFrame.head of      year                                             school  subject  \\\n",
       "81   2007       New Albany-Plain Local School District, Ohio  Reading   \n",
       "166  2008                Chardon Local School District, Ohio  Reading   \n",
       "199  2008                  Kings Local School District, Ohio  Reading   \n",
       "227  2008       New Albany-Plain Local School District, Ohio  Reading   \n",
       "235  2008  Northeastern Local School District (Champaign ...  Reading   \n",
       "274  2008               Twinsburg City School District, Ohio  Reading   \n",
       "\n",
       "     number_tested  pct_prof_or_above  pct_adv  pct_acc  pct_prof  pct_bsc  \\\n",
       "81             291               92.1     52.2     28.9      11.0      4.8   \n",
       "166            231               92.2     40.7     41.1      10.4      5.6   \n",
       "199            286               87.8     33.2     40.9      13.6      8.0   \n",
       "227            338               91.4     34.3     40.8      16.3      6.2   \n",
       "235            279               68.8     19.7     30.8      18.3     20.1   \n",
       "274            222               75.7     14.0     38.7      23.0     15.8   \n",
       "\n",
       "     pct_ltd  ...  perc_bachplus  perc_employ  perc_unemploy  median_inc  \\\n",
       "81       3.1  ...        0.59177          NaN            NaN       89673   \n",
       "166      2.2  ...        0.33267          NaN            NaN       67329   \n",
       "199      4.2  ...        0.37423          NaN            NaN       62434   \n",
       "227      2.4  ...        0.60009          NaN            NaN       97888   \n",
       "235     11.1  ...        0.17949          NaN            NaN       56065   \n",
       "274      8.6  ...        0.40358          NaN            NaN       70248   \n",
       "\n",
       "     perc_assist  perc_noassist   gini  perc_poverty  perc_nopoverty  \\\n",
       "81      0.006111       0.993889  0.478      0.065481        0.934519   \n",
       "166     0.003707       0.996293  0.405      0.021622        0.978378   \n",
       "199     0.017413       0.982587  0.397      0.059178        0.940822   \n",
       "227     0.011828       0.988172  0.490      0.030206        0.969794   \n",
       "235     0.013120       0.986880  0.377      0.077998        0.922002   \n",
       "274     0.021000       0.979000  0.379      0.071751        0.928249   \n",
       "\n",
       "     time_type  \n",
       "81           0  \n",
       "166          0  \n",
       "199          0  \n",
       "227          0  \n",
       "235          0  \n",
       "274          0  \n",
       "\n",
       "[6 rows x 27 columns]>"
      ]
     },
     "execution_count": 84,
     "metadata": {},
     "output_type": "execute_result"
    }
   ],
   "source": [
    "NA = data[data['perc_employ'].isnull()]\n",
    "NA.head"
   ]
  },
  {
   "cell_type": "code",
   "execution_count": 85,
   "metadata": {
    "scrolled": true
   },
   "outputs": [
    {
     "data": {
      "text/plain": [
       "<bound method NDFrame.head of      year                                             school  subject  \\\n",
       "81   2007       New Albany-Plain Local School District, Ohio  Reading   \n",
       "166  2008                Chardon Local School District, Ohio  Reading   \n",
       "199  2008                  Kings Local School District, Ohio  Reading   \n",
       "227  2008       New Albany-Plain Local School District, Ohio  Reading   \n",
       "235  2008  Northeastern Local School District (Champaign ...  Reading   \n",
       "274  2008               Twinsburg City School District, Ohio  Reading   \n",
       "\n",
       "     number_tested  pct_prof_or_above  pct_adv  pct_acc  pct_prof  pct_bsc  \\\n",
       "81             291               92.1     52.2     28.9      11.0      4.8   \n",
       "166            231               92.2     40.7     41.1      10.4      5.6   \n",
       "199            286               87.8     33.2     40.9      13.6      8.0   \n",
       "227            338               91.4     34.3     40.8      16.3      6.2   \n",
       "235            279               68.8     19.7     30.8      18.3     20.1   \n",
       "274            222               75.7     14.0     38.7      23.0     15.8   \n",
       "\n",
       "     pct_ltd  ...  perc_bachplus  perc_employ  perc_unemploy  median_inc  \\\n",
       "81       3.1  ...        0.59177          NaN            NaN       89673   \n",
       "166      2.2  ...        0.33267          NaN            NaN       67329   \n",
       "199      4.2  ...        0.37423          NaN            NaN       62434   \n",
       "227      2.4  ...        0.60009          NaN            NaN       97888   \n",
       "235     11.1  ...        0.17949          NaN            NaN       56065   \n",
       "274      8.6  ...        0.40358          NaN            NaN       70248   \n",
       "\n",
       "     perc_assist  perc_noassist   gini  perc_poverty  perc_nopoverty  \\\n",
       "81      0.006111       0.993889  0.478      0.065481        0.934519   \n",
       "166     0.003707       0.996293  0.405      0.021622        0.978378   \n",
       "199     0.017413       0.982587  0.397      0.059178        0.940822   \n",
       "227     0.011828       0.988172  0.490      0.030206        0.969794   \n",
       "235     0.013120       0.986880  0.377      0.077998        0.922002   \n",
       "274     0.021000       0.979000  0.379      0.071751        0.928249   \n",
       "\n",
       "     time_type  \n",
       "81           0  \n",
       "166          0  \n",
       "199          0  \n",
       "227          0  \n",
       "235          0  \n",
       "274          0  \n",
       "\n",
       "[6 rows x 27 columns]>"
      ]
     },
     "execution_count": 85,
     "metadata": {},
     "output_type": "execute_result"
    }
   ],
   "source": [
    "NA2 = data[data['perc_unemploy'].isnull()]\n",
    "NA2.head"
   ]
  },
  {
   "cell_type": "code",
   "execution_count": 86,
   "metadata": {},
   "outputs": [],
   "source": [
    "# Imputing missing values by group for employment data\n",
    "data['perc_employ'] = data['perc_employ'].fillna(data.groupby('school')['perc_employ'].transform('mean'))\n",
    "data['perc_unemploy'] = data['perc_unemploy'].fillna(data.groupby('school')['perc_unemploy'].transform('mean'))"
   ]
  },
  {
   "cell_type": "code",
   "execution_count": 87,
   "metadata": {
    "scrolled": true
   },
   "outputs": [
    {
     "data": {
      "text/html": [
       "<div>\n",
       "<style scoped>\n",
       "    .dataframe tbody tr th:only-of-type {\n",
       "        vertical-align: middle;\n",
       "    }\n",
       "\n",
       "    .dataframe tbody tr th {\n",
       "        vertical-align: top;\n",
       "    }\n",
       "\n",
       "    .dataframe thead th {\n",
       "        text-align: right;\n",
       "    }\n",
       "</style>\n",
       "<table border=\"1\" class=\"dataframe\">\n",
       "  <thead>\n",
       "    <tr style=\"text-align: right;\">\n",
       "      <th></th>\n",
       "      <th>null_count</th>\n",
       "      <th>null_fraction</th>\n",
       "    </tr>\n",
       "  </thead>\n",
       "  <tbody>\n",
       "    <tr>\n",
       "      <th>year</th>\n",
       "      <td>0</td>\n",
       "      <td>0.0</td>\n",
       "    </tr>\n",
       "    <tr>\n",
       "      <th>perc_5to19</th>\n",
       "      <td>0</td>\n",
       "      <td>0.0</td>\n",
       "    </tr>\n",
       "    <tr>\n",
       "      <th>perc_nopoverty</th>\n",
       "      <td>0</td>\n",
       "      <td>0.0</td>\n",
       "    </tr>\n",
       "    <tr>\n",
       "      <th>perc_poverty</th>\n",
       "      <td>0</td>\n",
       "      <td>0.0</td>\n",
       "    </tr>\n",
       "    <tr>\n",
       "      <th>gini</th>\n",
       "      <td>0</td>\n",
       "      <td>0.0</td>\n",
       "    </tr>\n",
       "    <tr>\n",
       "      <th>perc_noassist</th>\n",
       "      <td>0</td>\n",
       "      <td>0.0</td>\n",
       "    </tr>\n",
       "    <tr>\n",
       "      <th>perc_assist</th>\n",
       "      <td>0</td>\n",
       "      <td>0.0</td>\n",
       "    </tr>\n",
       "    <tr>\n",
       "      <th>median_inc</th>\n",
       "      <td>0</td>\n",
       "      <td>0.0</td>\n",
       "    </tr>\n",
       "    <tr>\n",
       "      <th>perc_unemploy</th>\n",
       "      <td>0</td>\n",
       "      <td>0.0</td>\n",
       "    </tr>\n",
       "    <tr>\n",
       "      <th>perc_employ</th>\n",
       "      <td>0</td>\n",
       "      <td>0.0</td>\n",
       "    </tr>\n",
       "    <tr>\n",
       "      <th>perc_bachplus</th>\n",
       "      <td>0</td>\n",
       "      <td>0.0</td>\n",
       "    </tr>\n",
       "    <tr>\n",
       "      <th>perc_nobach</th>\n",
       "      <td>0</td>\n",
       "      <td>0.0</td>\n",
       "    </tr>\n",
       "    <tr>\n",
       "      <th>perc_20plus</th>\n",
       "      <td>0</td>\n",
       "      <td>0.0</td>\n",
       "    </tr>\n",
       "    <tr>\n",
       "      <th>perc_under5</th>\n",
       "      <td>0</td>\n",
       "      <td>0.0</td>\n",
       "    </tr>\n",
       "    <tr>\n",
       "      <th>school</th>\n",
       "      <td>0</td>\n",
       "      <td>0.0</td>\n",
       "    </tr>\n",
       "    <tr>\n",
       "      <th>perc_female</th>\n",
       "      <td>0</td>\n",
       "      <td>0.0</td>\n",
       "    </tr>\n",
       "    <tr>\n",
       "      <th>perc_male</th>\n",
       "      <td>0</td>\n",
       "      <td>0.0</td>\n",
       "    </tr>\n",
       "    <tr>\n",
       "      <th>tot_pop</th>\n",
       "      <td>0</td>\n",
       "      <td>0.0</td>\n",
       "    </tr>\n",
       "    <tr>\n",
       "      <th>pct_ltd</th>\n",
       "      <td>0</td>\n",
       "      <td>0.0</td>\n",
       "    </tr>\n",
       "    <tr>\n",
       "      <th>pct_bsc</th>\n",
       "      <td>0</td>\n",
       "      <td>0.0</td>\n",
       "    </tr>\n",
       "    <tr>\n",
       "      <th>pct_prof</th>\n",
       "      <td>0</td>\n",
       "      <td>0.0</td>\n",
       "    </tr>\n",
       "    <tr>\n",
       "      <th>pct_acc</th>\n",
       "      <td>0</td>\n",
       "      <td>0.0</td>\n",
       "    </tr>\n",
       "    <tr>\n",
       "      <th>pct_adv</th>\n",
       "      <td>0</td>\n",
       "      <td>0.0</td>\n",
       "    </tr>\n",
       "    <tr>\n",
       "      <th>pct_prof_or_above</th>\n",
       "      <td>0</td>\n",
       "      <td>0.0</td>\n",
       "    </tr>\n",
       "    <tr>\n",
       "      <th>number_tested</th>\n",
       "      <td>0</td>\n",
       "      <td>0.0</td>\n",
       "    </tr>\n",
       "    <tr>\n",
       "      <th>subject</th>\n",
       "      <td>0</td>\n",
       "      <td>0.0</td>\n",
       "    </tr>\n",
       "    <tr>\n",
       "      <th>time_type</th>\n",
       "      <td>0</td>\n",
       "      <td>0.0</td>\n",
       "    </tr>\n",
       "  </tbody>\n",
       "</table>\n",
       "</div>"
      ],
      "text/plain": [
       "                   null_count  null_fraction\n",
       "year                        0            0.0\n",
       "perc_5to19                  0            0.0\n",
       "perc_nopoverty              0            0.0\n",
       "perc_poverty                0            0.0\n",
       "gini                        0            0.0\n",
       "perc_noassist               0            0.0\n",
       "perc_assist                 0            0.0\n",
       "median_inc                  0            0.0\n",
       "perc_unemploy               0            0.0\n",
       "perc_employ                 0            0.0\n",
       "perc_bachplus               0            0.0\n",
       "perc_nobach                 0            0.0\n",
       "perc_20plus                 0            0.0\n",
       "perc_under5                 0            0.0\n",
       "school                      0            0.0\n",
       "perc_female                 0            0.0\n",
       "perc_male                   0            0.0\n",
       "tot_pop                     0            0.0\n",
       "pct_ltd                     0            0.0\n",
       "pct_bsc                     0            0.0\n",
       "pct_prof                    0            0.0\n",
       "pct_acc                     0            0.0\n",
       "pct_adv                     0            0.0\n",
       "pct_prof_or_above           0            0.0\n",
       "number_tested               0            0.0\n",
       "subject                     0            0.0\n",
       "time_type                   0            0.0"
      ]
     },
     "execution_count": 87,
     "metadata": {},
     "output_type": "execute_result"
    }
   ],
   "source": [
    "# Last check for null values\n",
    "null_counts(data)"
   ]
  },
  {
   "cell_type": "markdown",
   "metadata": {},
   "source": [
    "### Outliers"
   ]
  },
  {
   "cell_type": "markdown",
   "metadata": {},
   "source": [
    " * Having looked at the z-scores in the previous notebook, I have decided to allow outliers to remain in the dataset for the time being. The large majority of the outliers would not necessarily be categorized as extreme.\n",
    " * Winsorization: Due to the nature of this dataset, which includes many variables that are meant to add up to 1, it does not make sense to winsorize one variable and not another, as this would mean the variables would no longer add to 1. For example, the variable 'perc_male' has some outliers according to z-scores but 'perc_female' does not. If I were to winsorize the observations for 'perc_male' then those school districts 'perc_male' & 'perc_female' variables would no longer equal 1.\n",
    " * Dropping Outliers: Due to the small size of the dataset (only 584 observations), I do not believe that it is in my best interest to remove rows with outliers. Since each school district needs to have observations both before and after the program began, if I were to remove some rows with outliers, some school districts would no longer have the necessary number of observations to be included in the model. "
   ]
  },
  {
   "cell_type": "markdown",
   "metadata": {},
   "source": [
    "### Additional Cleaning"
   ]
  },
  {
   "cell_type": "code",
   "execution_count": 88,
   "metadata": {
    "scrolled": true
   },
   "outputs": [],
   "source": [
    "# No additional cleaning was performed in this notebook"
   ]
  },
  {
   "cell_type": "markdown",
   "metadata": {},
   "source": [
    "## Save the Modeling Dataset"
   ]
  },
  {
   "cell_type": "code",
   "execution_count": 89,
   "metadata": {
    "scrolled": true
   },
   "outputs": [],
   "source": [
    "# Exporting the data set to CSV \n",
    "data.to_csv((data_loc+'/reading_clean.csv'), index = False)"
   ]
  },
  {
   "cell_type": "markdown",
   "metadata": {},
   "source": [
    "## Outcome"
   ]
  },
  {
   "cell_type": "markdown",
   "metadata": {},
   "source": [
    "##### The following changes were made to the data set:\n",
    " - Categorical Encoding: The variable 'year' was converted to a factor.\n",
    " - Missing Data: The missing data was cleaned in the following manner:\n",
    "      1. All race/ethnicity variables were removed from the dataset due to a large number of missing values.\n",
    "      2. Remaining missing values were imputed using the mean for their school district.\n",
    " - Outliers: Outliers were left in the dataset for the time being. If they cause problems during the modeling notebook then they will be handled accordingly."
   ]
  }
 ],
 "metadata": {
  "kernelspec": {
   "display_name": "Python 3",
   "language": "python",
   "name": "python3"
  },
  "language_info": {
   "codemirror_mode": {
    "name": "ipython",
    "version": 3
   },
   "file_extension": ".py",
   "mimetype": "text/x-python",
   "name": "python",
   "nbconvert_exporter": "python",
   "pygments_lexer": "ipython3",
   "version": "3.7.6"
  }
 },
 "nbformat": 4,
 "nbformat_minor": 4
}
