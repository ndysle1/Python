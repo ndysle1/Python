{
 "cells": [
  {
   "cell_type": "markdown",
   "metadata": {},
   "source": [
    "# Data Preparation"
   ]
  },
  {
   "cell_type": "markdown",
   "metadata": {},
   "source": [
    "### Settings/Functions\n",
    "Read in settings and functions."
   ]
  },
  {
   "cell_type": "code",
   "execution_count": 1,
   "metadata": {
    "scrolled": false
   },
   "outputs": [],
   "source": [
    "import pandas as pd\n",
    "import matplotlib.pyplot as plt\n",
    "import numpy as np\n",
    "import seaborn as sb\n",
    "import scipy as sp\n",
    "import sys\n",
    "import warnings\n",
    "from scipy import stats\n",
    "from scipy.stats import mstats\n",
    "from scipy.stats import zscore\n",
    "warnings.filterwarnings(\"ignore\", category=RuntimeWarning)"
   ]
  },
  {
   "cell_type": "markdown",
   "metadata": {},
   "source": [
    "### Data\n",
    "Read in the data and take an initial look."
   ]
  },
  {
   "cell_type": "code",
   "execution_count": 2,
   "metadata": {
    "scrolled": false
   },
   "outputs": [],
   "source": [
    "# Import original dataset\n",
    "data_loc = 'C://Users/User/Documents/GitHub/Python/Ohio Reading/data/'\n",
    "data = pd.read_csv(data_loc+'reading_data.csv',na_values=['.'])"
   ]
  },
  {
   "cell_type": "code",
   "execution_count": 3,
   "metadata": {},
   "outputs": [
    {
     "data": {
      "text/html": [
       "<div>\n",
       "<style scoped>\n",
       "    .dataframe tbody tr th:only-of-type {\n",
       "        vertical-align: middle;\n",
       "    }\n",
       "\n",
       "    .dataframe tbody tr th {\n",
       "        vertical-align: top;\n",
       "    }\n",
       "\n",
       "    .dataframe thead th {\n",
       "        text-align: right;\n",
       "    }\n",
       "</style>\n",
       "<table border=\"1\" class=\"dataframe\">\n",
       "  <thead>\n",
       "    <tr style=\"text-align: right;\">\n",
       "      <th></th>\n",
       "      <th>Year</th>\n",
       "      <th>After</th>\n",
       "      <th>Ohio</th>\n",
       "      <th>School_District</th>\n",
       "      <th>Number_Tested</th>\n",
       "      <th>Pct_Prof_Or_Above</th>\n",
       "      <th>Tot_Pop</th>\n",
       "      <th>Perc_Male</th>\n",
       "      <th>Perc_Female</th>\n",
       "      <th>Perc_Under5</th>\n",
       "      <th>Perc_5to19</th>\n",
       "      <th>Perc_20Plus</th>\n",
       "      <th>Perc_Caucasian</th>\n",
       "      <th>Perc_OtherEthnicity</th>\n",
       "      <th>Perc_NoBach</th>\n",
       "      <th>Perc_BachPlus</th>\n",
       "      <th>Median_Inc</th>\n",
       "    </tr>\n",
       "  </thead>\n",
       "  <tbody>\n",
       "    <tr>\n",
       "      <th>0</th>\n",
       "      <td>2008</td>\n",
       "      <td>0</td>\n",
       "      <td>1</td>\n",
       "      <td>Adams County/Ohio Valley Local School District...</td>\n",
       "      <td>315</td>\n",
       "      <td>67.6</td>\n",
       "      <td>23882</td>\n",
       "      <td>0.50</td>\n",
       "      <td>0.50</td>\n",
       "      <td>0.07</td>\n",
       "      <td>0.18</td>\n",
       "      <td>0.75</td>\n",
       "      <td>0.97</td>\n",
       "      <td>0.03</td>\n",
       "      <td>0.90</td>\n",
       "      <td>0.10</td>\n",
       "      <td>35481</td>\n",
       "    </tr>\n",
       "    <tr>\n",
       "      <th>1</th>\n",
       "      <td>2013</td>\n",
       "      <td>1</td>\n",
       "      <td>1</td>\n",
       "      <td>Adams County/Ohio Valley Local School District...</td>\n",
       "      <td>283</td>\n",
       "      <td>78.5</td>\n",
       "      <td>22546</td>\n",
       "      <td>0.50</td>\n",
       "      <td>0.50</td>\n",
       "      <td>0.07</td>\n",
       "      <td>0.19</td>\n",
       "      <td>0.74</td>\n",
       "      <td>0.97</td>\n",
       "      <td>0.03</td>\n",
       "      <td>0.90</td>\n",
       "      <td>0.10</td>\n",
       "      <td>32741</td>\n",
       "    </tr>\n",
       "    <tr>\n",
       "      <th>2</th>\n",
       "      <td>2008</td>\n",
       "      <td>0</td>\n",
       "      <td>1</td>\n",
       "      <td>Akron City School District, Ohio</td>\n",
       "      <td>1801</td>\n",
       "      <td>60.2</td>\n",
       "      <td>190906</td>\n",
       "      <td>0.48</td>\n",
       "      <td>0.52</td>\n",
       "      <td>0.07</td>\n",
       "      <td>0.17</td>\n",
       "      <td>0.76</td>\n",
       "      <td>0.63</td>\n",
       "      <td>0.37</td>\n",
       "      <td>0.82</td>\n",
       "      <td>0.18</td>\n",
       "      <td>34072</td>\n",
       "    </tr>\n",
       "    <tr>\n",
       "      <th>3</th>\n",
       "      <td>2013</td>\n",
       "      <td>1</td>\n",
       "      <td>1</td>\n",
       "      <td>Akron City School District, Ohio</td>\n",
       "      <td>1700</td>\n",
       "      <td>68.8</td>\n",
       "      <td>190599</td>\n",
       "      <td>0.48</td>\n",
       "      <td>0.52</td>\n",
       "      <td>0.07</td>\n",
       "      <td>0.16</td>\n",
       "      <td>0.77</td>\n",
       "      <td>0.61</td>\n",
       "      <td>0.39</td>\n",
       "      <td>0.81</td>\n",
       "      <td>0.19</td>\n",
       "      <td>30438</td>\n",
       "    </tr>\n",
       "    <tr>\n",
       "      <th>4</th>\n",
       "      <td>2008</td>\n",
       "      <td>0</td>\n",
       "      <td>1</td>\n",
       "      <td>Alliance City School District, Ohio</td>\n",
       "      <td>199</td>\n",
       "      <td>61.3</td>\n",
       "      <td>22674</td>\n",
       "      <td>0.48</td>\n",
       "      <td>0.52</td>\n",
       "      <td>0.06</td>\n",
       "      <td>0.17</td>\n",
       "      <td>0.77</td>\n",
       "      <td>0.87</td>\n",
       "      <td>0.13</td>\n",
       "      <td>0.88</td>\n",
       "      <td>0.12</td>\n",
       "      <td>33568</td>\n",
       "    </tr>\n",
       "  </tbody>\n",
       "</table>\n",
       "</div>"
      ],
      "text/plain": [
       "   Year  After  Ohio                                    School_District  \\\n",
       "0  2008      0     1  Adams County/Ohio Valley Local School District...   \n",
       "1  2013      1     1  Adams County/Ohio Valley Local School District...   \n",
       "2  2008      0     1                   Akron City School District, Ohio   \n",
       "3  2013      1     1                   Akron City School District, Ohio   \n",
       "4  2008      0     1                Alliance City School District, Ohio   \n",
       "\n",
       "   Number_Tested  Pct_Prof_Or_Above  Tot_Pop  Perc_Male  Perc_Female  \\\n",
       "0            315               67.6    23882       0.50         0.50   \n",
       "1            283               78.5    22546       0.50         0.50   \n",
       "2           1801               60.2   190906       0.48         0.52   \n",
       "3           1700               68.8   190599       0.48         0.52   \n",
       "4            199               61.3    22674       0.48         0.52   \n",
       "\n",
       "   Perc_Under5  Perc_5to19  Perc_20Plus  Perc_Caucasian  Perc_OtherEthnicity  \\\n",
       "0         0.07        0.18         0.75            0.97                 0.03   \n",
       "1         0.07        0.19         0.74            0.97                 0.03   \n",
       "2         0.07        0.17         0.76            0.63                 0.37   \n",
       "3         0.07        0.16         0.77            0.61                 0.39   \n",
       "4         0.06        0.17         0.77            0.87                 0.13   \n",
       "\n",
       "   Perc_NoBach  Perc_BachPlus  Median_Inc  \n",
       "0         0.90           0.10       35481  \n",
       "1         0.90           0.10       32741  \n",
       "2         0.82           0.18       34072  \n",
       "3         0.81           0.19       30438  \n",
       "4         0.88           0.12       33568  "
      ]
     },
     "execution_count": 3,
     "metadata": {},
     "output_type": "execute_result"
    }
   ],
   "source": [
    "data.head()"
   ]
  },
  {
   "cell_type": "markdown",
   "metadata": {},
   "source": [
    "## Describing the Data"
   ]
  },
  {
   "cell_type": "markdown",
   "metadata": {},
   "source": [
    "### Data Shape"
   ]
  },
  {
   "cell_type": "markdown",
   "metadata": {},
   "source": [
    " - The dataset is currently in a long format where each school district has a row for each year of interest. The datasets do not contain an interaction variable, so this will need to be added to the dataset in order to perform the difference-in-difference analysis. The initial dataset has 350 rows and 17 columns."
   ]
  },
  {
   "cell_type": "code",
   "execution_count": 4,
   "metadata": {
    "scrolled": false
   },
   "outputs": [
    {
     "name": "stdout",
     "output_type": "stream",
     "text": [
      "data shape: (350, 17)\n"
     ]
    }
   ],
   "source": [
    "# Checking the dimensions of the dataset\n",
    "print(\"data shape: {}\".format(data.shape))"
   ]
  },
  {
   "cell_type": "markdown",
   "metadata": {},
   "source": [
    "### Data Type"
   ]
  },
  {
   "cell_type": "markdown",
   "metadata": {},
   "source": [
    " - The dataset contains the following data types:\n",
    "    - Factors/Strings: (1)\n",
    "    - Integers (6)\n",
    "    - Numeric (10)"
   ]
  },
  {
   "cell_type": "code",
   "execution_count": 5,
   "metadata": {
    "scrolled": false
   },
   "outputs": [
    {
     "name": "stdout",
     "output_type": "stream",
     "text": [
      "data types: float64    10\n",
      "int64       6\n",
      "object      1\n",
      "dtype: int64\n"
     ]
    }
   ],
   "source": [
    "print(\"data types: {}\".format(data.dtypes.value_counts()))"
   ]
  },
  {
   "cell_type": "code",
   "execution_count": 6,
   "metadata": {
    "scrolled": true
   },
   "outputs": [
    {
     "name": "stdout",
     "output_type": "stream",
     "text": [
      "<class 'pandas.core.frame.DataFrame'>\n",
      "RangeIndex: 350 entries, 0 to 349\n",
      "Data columns (total 17 columns):\n",
      " #   Column               Non-Null Count  Dtype  \n",
      "---  ------               --------------  -----  \n",
      " 0   Year                 350 non-null    int64  \n",
      " 1   After                350 non-null    int64  \n",
      " 2   Ohio                 350 non-null    int64  \n",
      " 3   School_District      350 non-null    object \n",
      " 4   Number_Tested        350 non-null    int64  \n",
      " 5   Pct_Prof_Or_Above    350 non-null    float64\n",
      " 6   Tot_Pop              350 non-null    int64  \n",
      " 7   Perc_Male            350 non-null    float64\n",
      " 8   Perc_Female          350 non-null    float64\n",
      " 9   Perc_Under5          350 non-null    float64\n",
      " 10  Perc_5to19           350 non-null    float64\n",
      " 11  Perc_20Plus          350 non-null    float64\n",
      " 12  Perc_Caucasian       348 non-null    float64\n",
      " 13  Perc_OtherEthnicity  348 non-null    float64\n",
      " 14  Perc_NoBach          349 non-null    float64\n",
      " 15  Perc_BachPlus        349 non-null    float64\n",
      " 16  Median_Inc           350 non-null    int64  \n",
      "dtypes: float64(10), int64(6), object(1)\n",
      "memory usage: 46.6+ KB\n"
     ]
    }
   ],
   "source": [
    "data.info()"
   ]
  },
  {
   "cell_type": "code",
   "execution_count": 7,
   "metadata": {
    "scrolled": true
   },
   "outputs": [
    {
     "name": "stdout",
     "output_type": "stream",
     "text": [
      "Year                     int64\n",
      "After                    int64\n",
      "Ohio                     int64\n",
      "School_District         object\n",
      "Number_Tested            int64\n",
      "Pct_Prof_Or_Above      float64\n",
      "Tot_Pop                  int64\n",
      "Perc_Male              float64\n",
      "Perc_Female            float64\n",
      "Perc_Under5            float64\n",
      "Perc_5to19             float64\n",
      "Perc_20Plus            float64\n",
      "Perc_Caucasian         float64\n",
      "Perc_OtherEthnicity    float64\n",
      "Perc_NoBach            float64\n",
      "Perc_BachPlus          float64\n",
      "Median_Inc               int64\n",
      "dtype: object\n"
     ]
    }
   ],
   "source": [
    "print(data.dtypes) "
   ]
  },
  {
   "cell_type": "markdown",
   "metadata": {},
   "source": [
    " - Variable Types:\n",
    "    - 'School_District' is the only variable that should be a string in the data set.\n",
    "    - The remaining variables should be numeric."
   ]
  },
  {
   "cell_type": "markdown",
   "metadata": {},
   "source": [
    "## Variables Names & Creation"
   ]
  },
  {
   "cell_type": "code",
   "execution_count": 8,
   "metadata": {},
   "outputs": [
    {
     "name": "stdout",
     "output_type": "stream",
     "text": [
      "data shape: (350, 17)\n",
      "data shape: (350, 17)\n"
     ]
    }
   ],
   "source": [
    "# Checking for duplicate column names\n",
    "print(\"data shape: {}\".format(data.shape))\n",
    "data = data.loc[:,~data.columns.duplicated()]\n",
    "print(\"data shape: {}\".format(data.shape)) \n",
    "# No duplicate variable names exist in the dataset"
   ]
  },
  {
   "cell_type": "code",
   "execution_count": 9,
   "metadata": {},
   "outputs": [
    {
     "name": "stdout",
     "output_type": "stream",
     "text": [
      "Year\n",
      "After\n",
      "Ohio\n",
      "School_District\n",
      "Number_Tested\n",
      "Pct_Prof_Or_Above\n",
      "Tot_Pop\n",
      "Perc_Male\n",
      "Perc_Female\n",
      "Perc_Under5\n",
      "Perc_5to19\n",
      "Perc_20Plus\n",
      "Perc_Caucasian\n",
      "Perc_OtherEthnicity\n",
      "Perc_NoBach\n",
      "Perc_BachPlus\n",
      "Median_Inc\n"
     ]
    }
   ],
   "source": [
    "# Checking variable names\n",
    "for col in data.columns: \n",
    "    print(col) "
   ]
  },
  {
   "cell_type": "code",
   "execution_count": 10,
   "metadata": {},
   "outputs": [
    {
     "data": {
      "text/plain": [
       "Index(['year', 'after', 'ohio', 'school_district', 'number_tested',\n",
       "       'pct_prof_or_above', 'tot_pop', 'perc_male', 'perc_female',\n",
       "       'perc_under5', 'perc_5to19', 'perc_20plus', 'perc_caucasian',\n",
       "       'perc_otherethnicity', 'perc_nobach', 'perc_bachplus', 'median_inc'],\n",
       "      dtype='object')"
      ]
     },
     "execution_count": 10,
     "metadata": {},
     "output_type": "execute_result"
    }
   ],
   "source": [
    "# Rename all columns to lower case\n",
    "data.columns = data.columns.str.lower()\n",
    "data.columns"
   ]
  },
  {
   "cell_type": "code",
   "execution_count": 11,
   "metadata": {},
   "outputs": [
    {
     "data": {
      "text/html": [
       "<div>\n",
       "<style scoped>\n",
       "    .dataframe tbody tr th:only-of-type {\n",
       "        vertical-align: middle;\n",
       "    }\n",
       "\n",
       "    .dataframe tbody tr th {\n",
       "        vertical-align: top;\n",
       "    }\n",
       "\n",
       "    .dataframe thead th {\n",
       "        text-align: right;\n",
       "    }\n",
       "</style>\n",
       "<table border=\"1\" class=\"dataframe\">\n",
       "  <thead>\n",
       "    <tr style=\"text-align: right;\">\n",
       "      <th>after</th>\n",
       "      <th>0</th>\n",
       "      <th>1</th>\n",
       "    </tr>\n",
       "    <tr>\n",
       "      <th>year</th>\n",
       "      <th></th>\n",
       "      <th></th>\n",
       "    </tr>\n",
       "  </thead>\n",
       "  <tbody>\n",
       "    <tr>\n",
       "      <th>2008</th>\n",
       "      <td>175</td>\n",
       "      <td>0</td>\n",
       "    </tr>\n",
       "    <tr>\n",
       "      <th>2013</th>\n",
       "      <td>0</td>\n",
       "      <td>175</td>\n",
       "    </tr>\n",
       "  </tbody>\n",
       "</table>\n",
       "</div>"
      ],
      "text/plain": [
       "after    0    1\n",
       "year           \n",
       "2008   175    0\n",
       "2013     0  175"
      ]
     },
     "execution_count": 11,
     "metadata": {},
     "output_type": "execute_result"
    }
   ],
   "source": [
    "# Checking the counts years to time\n",
    "pd.crosstab(data['year'], data['after'])"
   ]
  },
  {
   "cell_type": "code",
   "execution_count": 12,
   "metadata": {},
   "outputs": [
    {
     "data": {
      "text/html": [
       "<div>\n",
       "<style scoped>\n",
       "    .dataframe tbody tr th:only-of-type {\n",
       "        vertical-align: middle;\n",
       "    }\n",
       "\n",
       "    .dataframe tbody tr th {\n",
       "        vertical-align: top;\n",
       "    }\n",
       "\n",
       "    .dataframe thead th {\n",
       "        text-align: right;\n",
       "    }\n",
       "</style>\n",
       "<table border=\"1\" class=\"dataframe\">\n",
       "  <thead>\n",
       "    <tr style=\"text-align: right;\">\n",
       "      <th>after</th>\n",
       "      <th>0</th>\n",
       "      <th>1</th>\n",
       "    </tr>\n",
       "    <tr>\n",
       "      <th>ohio</th>\n",
       "      <th></th>\n",
       "      <th></th>\n",
       "    </tr>\n",
       "  </thead>\n",
       "  <tbody>\n",
       "    <tr>\n",
       "      <th>0</th>\n",
       "      <td>29</td>\n",
       "      <td>29</td>\n",
       "    </tr>\n",
       "    <tr>\n",
       "      <th>1</th>\n",
       "      <td>146</td>\n",
       "      <td>146</td>\n",
       "    </tr>\n",
       "  </tbody>\n",
       "</table>\n",
       "</div>"
      ],
      "text/plain": [
       "after    0    1\n",
       "ohio           \n",
       "0       29   29\n",
       "1      146  146"
      ]
     },
     "execution_count": 12,
     "metadata": {},
     "output_type": "execute_result"
    }
   ],
   "source": [
    "# Checking the counts of states to time\n",
    "pd.crosstab(data['ohio'], data['after'])"
   ]
  },
  {
   "cell_type": "code",
   "execution_count": 13,
   "metadata": {},
   "outputs": [],
   "source": [
    "# Creating the interaction term for difference in difference modeling\n",
    "data['interaction'] = data.ohio*data.after"
   ]
  },
  {
   "cell_type": "markdown",
   "metadata": {},
   "source": [
    "* All variable names are now in a clean, consistent format that is compatible for modeling."
   ]
  },
  {
   "cell_type": "markdown",
   "metadata": {},
   "source": [
    "## Missing Data"
   ]
  },
  {
   "cell_type": "markdown",
   "metadata": {},
   "source": [
    " * The missing values for the ethnicity variables both came from the same school district so those observations were removed from the dataset due to to small impact on the overall dataset.\n",
    " * The missing values for the educational attainment variables appear in different school districts. Since the education level variables only had 1 missing variable each, I knew that I would be able to impute from the other year in the dataset for the school district. I did this by using the mean, which is just the value for the second year in the dataset for that school district."
   ]
  },
  {
   "cell_type": "code",
   "execution_count": 14,
   "metadata": {},
   "outputs": [],
   "source": [
    "# Function to count the number of nulls in each column\n",
    "def null_counts(df):\n",
    "    null_df = pd.DataFrame(df.isnull().sum(),columns=['null_count'])\n",
    "    null_df['null_fraction'] = null_df['null_count'] / df.shape[0]\n",
    "    null_df = null_df.sort_values('null_count',ascending=False)\n",
    "    return null_df"
   ]
  },
  {
   "cell_type": "code",
   "execution_count": 15,
   "metadata": {
    "scrolled": true
   },
   "outputs": [
    {
     "data": {
      "text/html": [
       "<div>\n",
       "<style scoped>\n",
       "    .dataframe tbody tr th:only-of-type {\n",
       "        vertical-align: middle;\n",
       "    }\n",
       "\n",
       "    .dataframe tbody tr th {\n",
       "        vertical-align: top;\n",
       "    }\n",
       "\n",
       "    .dataframe thead th {\n",
       "        text-align: right;\n",
       "    }\n",
       "</style>\n",
       "<table border=\"1\" class=\"dataframe\">\n",
       "  <thead>\n",
       "    <tr style=\"text-align: right;\">\n",
       "      <th></th>\n",
       "      <th>null_count</th>\n",
       "      <th>null_fraction</th>\n",
       "    </tr>\n",
       "  </thead>\n",
       "  <tbody>\n",
       "    <tr>\n",
       "      <th>perc_otherethnicity</th>\n",
       "      <td>2</td>\n",
       "      <td>0.005714</td>\n",
       "    </tr>\n",
       "    <tr>\n",
       "      <th>perc_caucasian</th>\n",
       "      <td>2</td>\n",
       "      <td>0.005714</td>\n",
       "    </tr>\n",
       "    <tr>\n",
       "      <th>perc_bachplus</th>\n",
       "      <td>1</td>\n",
       "      <td>0.002857</td>\n",
       "    </tr>\n",
       "    <tr>\n",
       "      <th>perc_nobach</th>\n",
       "      <td>1</td>\n",
       "      <td>0.002857</td>\n",
       "    </tr>\n",
       "    <tr>\n",
       "      <th>year</th>\n",
       "      <td>0</td>\n",
       "      <td>0.000000</td>\n",
       "    </tr>\n",
       "    <tr>\n",
       "      <th>after</th>\n",
       "      <td>0</td>\n",
       "      <td>0.000000</td>\n",
       "    </tr>\n",
       "    <tr>\n",
       "      <th>median_inc</th>\n",
       "      <td>0</td>\n",
       "      <td>0.000000</td>\n",
       "    </tr>\n",
       "    <tr>\n",
       "      <th>perc_20plus</th>\n",
       "      <td>0</td>\n",
       "      <td>0.000000</td>\n",
       "    </tr>\n",
       "    <tr>\n",
       "      <th>perc_5to19</th>\n",
       "      <td>0</td>\n",
       "      <td>0.000000</td>\n",
       "    </tr>\n",
       "    <tr>\n",
       "      <th>perc_under5</th>\n",
       "      <td>0</td>\n",
       "      <td>0.000000</td>\n",
       "    </tr>\n",
       "    <tr>\n",
       "      <th>perc_female</th>\n",
       "      <td>0</td>\n",
       "      <td>0.000000</td>\n",
       "    </tr>\n",
       "    <tr>\n",
       "      <th>perc_male</th>\n",
       "      <td>0</td>\n",
       "      <td>0.000000</td>\n",
       "    </tr>\n",
       "    <tr>\n",
       "      <th>tot_pop</th>\n",
       "      <td>0</td>\n",
       "      <td>0.000000</td>\n",
       "    </tr>\n",
       "    <tr>\n",
       "      <th>pct_prof_or_above</th>\n",
       "      <td>0</td>\n",
       "      <td>0.000000</td>\n",
       "    </tr>\n",
       "    <tr>\n",
       "      <th>number_tested</th>\n",
       "      <td>0</td>\n",
       "      <td>0.000000</td>\n",
       "    </tr>\n",
       "    <tr>\n",
       "      <th>school_district</th>\n",
       "      <td>0</td>\n",
       "      <td>0.000000</td>\n",
       "    </tr>\n",
       "    <tr>\n",
       "      <th>ohio</th>\n",
       "      <td>0</td>\n",
       "      <td>0.000000</td>\n",
       "    </tr>\n",
       "    <tr>\n",
       "      <th>interaction</th>\n",
       "      <td>0</td>\n",
       "      <td>0.000000</td>\n",
       "    </tr>\n",
       "  </tbody>\n",
       "</table>\n",
       "</div>"
      ],
      "text/plain": [
       "                     null_count  null_fraction\n",
       "perc_otherethnicity           2       0.005714\n",
       "perc_caucasian                2       0.005714\n",
       "perc_bachplus                 1       0.002857\n",
       "perc_nobach                   1       0.002857\n",
       "year                          0       0.000000\n",
       "after                         0       0.000000\n",
       "median_inc                    0       0.000000\n",
       "perc_20plus                   0       0.000000\n",
       "perc_5to19                    0       0.000000\n",
       "perc_under5                   0       0.000000\n",
       "perc_female                   0       0.000000\n",
       "perc_male                     0       0.000000\n",
       "tot_pop                       0       0.000000\n",
       "pct_prof_or_above             0       0.000000\n",
       "number_tested                 0       0.000000\n",
       "school_district               0       0.000000\n",
       "ohio                          0       0.000000\n",
       "interaction                   0       0.000000"
      ]
     },
     "execution_count": 15,
     "metadata": {},
     "output_type": "execute_result"
    }
   ],
   "source": [
    "# Checking for null values\n",
    "null_counts(data)"
   ]
  },
  {
   "cell_type": "code",
   "execution_count": 16,
   "metadata": {},
   "outputs": [
    {
     "data": {
      "text/html": [
       "<div>\n",
       "<style scoped>\n",
       "    .dataframe tbody tr th:only-of-type {\n",
       "        vertical-align: middle;\n",
       "    }\n",
       "\n",
       "    .dataframe tbody tr th {\n",
       "        vertical-align: top;\n",
       "    }\n",
       "\n",
       "    .dataframe thead th {\n",
       "        text-align: right;\n",
       "    }\n",
       "</style>\n",
       "<table border=\"1\" class=\"dataframe\">\n",
       "  <thead>\n",
       "    <tr style=\"text-align: right;\">\n",
       "      <th></th>\n",
       "      <th>year</th>\n",
       "      <th>after</th>\n",
       "      <th>ohio</th>\n",
       "      <th>school_district</th>\n",
       "      <th>number_tested</th>\n",
       "      <th>pct_prof_or_above</th>\n",
       "      <th>tot_pop</th>\n",
       "      <th>perc_male</th>\n",
       "      <th>perc_female</th>\n",
       "      <th>perc_under5</th>\n",
       "      <th>perc_5to19</th>\n",
       "      <th>perc_20plus</th>\n",
       "      <th>perc_caucasian</th>\n",
       "      <th>perc_otherethnicity</th>\n",
       "      <th>perc_nobach</th>\n",
       "      <th>perc_bachplus</th>\n",
       "      <th>median_inc</th>\n",
       "      <th>interaction</th>\n",
       "    </tr>\n",
       "  </thead>\n",
       "  <tbody>\n",
       "    <tr>\n",
       "      <th>218</th>\n",
       "      <td>2008</td>\n",
       "      <td>0</td>\n",
       "      <td>1</td>\n",
       "      <td>Northeastern Local School District (Champaign ...</td>\n",
       "      <td>279</td>\n",
       "      <td>68.8</td>\n",
       "      <td>21049</td>\n",
       "      <td>0.47</td>\n",
       "      <td>0.53</td>\n",
       "      <td>0.03</td>\n",
       "      <td>0.17</td>\n",
       "      <td>0.79</td>\n",
       "      <td>NaN</td>\n",
       "      <td>NaN</td>\n",
       "      <td>0.82</td>\n",
       "      <td>0.18</td>\n",
       "      <td>56065</td>\n",
       "      <td>0</td>\n",
       "    </tr>\n",
       "    <tr>\n",
       "      <th>219</th>\n",
       "      <td>2013</td>\n",
       "      <td>1</td>\n",
       "      <td>1</td>\n",
       "      <td>Northeastern Local School District (Champaign ...</td>\n",
       "      <td>251</td>\n",
       "      <td>84.1</td>\n",
       "      <td>22461</td>\n",
       "      <td>0.48</td>\n",
       "      <td>0.52</td>\n",
       "      <td>0.03</td>\n",
       "      <td>0.20</td>\n",
       "      <td>0.77</td>\n",
       "      <td>NaN</td>\n",
       "      <td>NaN</td>\n",
       "      <td>0.77</td>\n",
       "      <td>0.23</td>\n",
       "      <td>53414</td>\n",
       "      <td>1</td>\n",
       "    </tr>\n",
       "  </tbody>\n",
       "</table>\n",
       "</div>"
      ],
      "text/plain": [
       "     year  after  ohio                                    school_district  \\\n",
       "218  2008      0     1  Northeastern Local School District (Champaign ...   \n",
       "219  2013      1     1  Northeastern Local School District (Champaign ...   \n",
       "\n",
       "     number_tested  pct_prof_or_above  tot_pop  perc_male  perc_female  \\\n",
       "218            279               68.8    21049       0.47         0.53   \n",
       "219            251               84.1    22461       0.48         0.52   \n",
       "\n",
       "     perc_under5  perc_5to19  perc_20plus  perc_caucasian  \\\n",
       "218         0.03        0.17         0.79             NaN   \n",
       "219         0.03        0.20         0.77             NaN   \n",
       "\n",
       "     perc_otherethnicity  perc_nobach  perc_bachplus  median_inc  interaction  \n",
       "218                  NaN         0.82           0.18       56065            0  \n",
       "219                  NaN         0.77           0.23       53414            1  "
      ]
     },
     "execution_count": 16,
     "metadata": {},
     "output_type": "execute_result"
    }
   ],
   "source": [
    "# Checking if the missing values are from the same school\n",
    "data[data['perc_caucasian'].isnull()]"
   ]
  },
  {
   "cell_type": "code",
   "execution_count": 17,
   "metadata": {},
   "outputs": [],
   "source": [
    "# Imputing missing values by group for education values\n",
    "data['perc_nobach'] = data['perc_nobach'].fillna(data.groupby('school_district')['perc_nobach'].transform('mean'))\n",
    "data['perc_bachplus'] = data['perc_bachplus'].fillna(data.groupby('school_district')['perc_bachplus'].transform('mean'))"
   ]
  },
  {
   "cell_type": "code",
   "execution_count": 18,
   "metadata": {},
   "outputs": [
    {
     "name": "stdout",
     "output_type": "stream",
     "text": [
      "<class 'pandas.core.frame.DataFrame'>\n",
      "Int64Index: 348 entries, 0 to 349\n",
      "Data columns (total 18 columns):\n",
      " #   Column               Non-Null Count  Dtype  \n",
      "---  ------               --------------  -----  \n",
      " 0   year                 348 non-null    int64  \n",
      " 1   after                348 non-null    int64  \n",
      " 2   ohio                 348 non-null    int64  \n",
      " 3   school_district      348 non-null    object \n",
      " 4   number_tested        348 non-null    int64  \n",
      " 5   pct_prof_or_above    348 non-null    float64\n",
      " 6   tot_pop              348 non-null    int64  \n",
      " 7   perc_male            348 non-null    float64\n",
      " 8   perc_female          348 non-null    float64\n",
      " 9   perc_under5          348 non-null    float64\n",
      " 10  perc_5to19           348 non-null    float64\n",
      " 11  perc_20plus          348 non-null    float64\n",
      " 12  perc_caucasian       348 non-null    float64\n",
      " 13  perc_otherethnicity  348 non-null    float64\n",
      " 14  perc_nobach          348 non-null    float64\n",
      " 15  perc_bachplus        348 non-null    float64\n",
      " 16  median_inc           348 non-null    int64  \n",
      " 17  interaction          348 non-null    int64  \n",
      "dtypes: float64(10), int64(7), object(1)\n",
      "memory usage: 51.7+ KB\n"
     ]
    }
   ],
   "source": [
    "# Dropping the missing ethnicity variables since both were from the same school district\n",
    "data = data.dropna()\n",
    "data.info()"
   ]
  },
  {
   "cell_type": "code",
   "execution_count": 19,
   "metadata": {},
   "outputs": [
    {
     "data": {
      "text/html": [
       "<div>\n",
       "<style scoped>\n",
       "    .dataframe tbody tr th:only-of-type {\n",
       "        vertical-align: middle;\n",
       "    }\n",
       "\n",
       "    .dataframe tbody tr th {\n",
       "        vertical-align: top;\n",
       "    }\n",
       "\n",
       "    .dataframe thead th {\n",
       "        text-align: right;\n",
       "    }\n",
       "</style>\n",
       "<table border=\"1\" class=\"dataframe\">\n",
       "  <thead>\n",
       "    <tr style=\"text-align: right;\">\n",
       "      <th></th>\n",
       "      <th>null_count</th>\n",
       "      <th>null_fraction</th>\n",
       "    </tr>\n",
       "  </thead>\n",
       "  <tbody>\n",
       "    <tr>\n",
       "      <th>year</th>\n",
       "      <td>0</td>\n",
       "      <td>0.0</td>\n",
       "    </tr>\n",
       "    <tr>\n",
       "      <th>after</th>\n",
       "      <td>0</td>\n",
       "      <td>0.0</td>\n",
       "    </tr>\n",
       "    <tr>\n",
       "      <th>median_inc</th>\n",
       "      <td>0</td>\n",
       "      <td>0.0</td>\n",
       "    </tr>\n",
       "    <tr>\n",
       "      <th>perc_bachplus</th>\n",
       "      <td>0</td>\n",
       "      <td>0.0</td>\n",
       "    </tr>\n",
       "    <tr>\n",
       "      <th>perc_nobach</th>\n",
       "      <td>0</td>\n",
       "      <td>0.0</td>\n",
       "    </tr>\n",
       "    <tr>\n",
       "      <th>perc_otherethnicity</th>\n",
       "      <td>0</td>\n",
       "      <td>0.0</td>\n",
       "    </tr>\n",
       "    <tr>\n",
       "      <th>perc_caucasian</th>\n",
       "      <td>0</td>\n",
       "      <td>0.0</td>\n",
       "    </tr>\n",
       "    <tr>\n",
       "      <th>perc_20plus</th>\n",
       "      <td>0</td>\n",
       "      <td>0.0</td>\n",
       "    </tr>\n",
       "    <tr>\n",
       "      <th>perc_5to19</th>\n",
       "      <td>0</td>\n",
       "      <td>0.0</td>\n",
       "    </tr>\n",
       "    <tr>\n",
       "      <th>perc_under5</th>\n",
       "      <td>0</td>\n",
       "      <td>0.0</td>\n",
       "    </tr>\n",
       "    <tr>\n",
       "      <th>perc_female</th>\n",
       "      <td>0</td>\n",
       "      <td>0.0</td>\n",
       "    </tr>\n",
       "    <tr>\n",
       "      <th>perc_male</th>\n",
       "      <td>0</td>\n",
       "      <td>0.0</td>\n",
       "    </tr>\n",
       "    <tr>\n",
       "      <th>tot_pop</th>\n",
       "      <td>0</td>\n",
       "      <td>0.0</td>\n",
       "    </tr>\n",
       "    <tr>\n",
       "      <th>pct_prof_or_above</th>\n",
       "      <td>0</td>\n",
       "      <td>0.0</td>\n",
       "    </tr>\n",
       "    <tr>\n",
       "      <th>number_tested</th>\n",
       "      <td>0</td>\n",
       "      <td>0.0</td>\n",
       "    </tr>\n",
       "    <tr>\n",
       "      <th>school_district</th>\n",
       "      <td>0</td>\n",
       "      <td>0.0</td>\n",
       "    </tr>\n",
       "    <tr>\n",
       "      <th>ohio</th>\n",
       "      <td>0</td>\n",
       "      <td>0.0</td>\n",
       "    </tr>\n",
       "    <tr>\n",
       "      <th>interaction</th>\n",
       "      <td>0</td>\n",
       "      <td>0.0</td>\n",
       "    </tr>\n",
       "  </tbody>\n",
       "</table>\n",
       "</div>"
      ],
      "text/plain": [
       "                     null_count  null_fraction\n",
       "year                          0            0.0\n",
       "after                         0            0.0\n",
       "median_inc                    0            0.0\n",
       "perc_bachplus                 0            0.0\n",
       "perc_nobach                   0            0.0\n",
       "perc_otherethnicity           0            0.0\n",
       "perc_caucasian                0            0.0\n",
       "perc_20plus                   0            0.0\n",
       "perc_5to19                    0            0.0\n",
       "perc_under5                   0            0.0\n",
       "perc_female                   0            0.0\n",
       "perc_male                     0            0.0\n",
       "tot_pop                       0            0.0\n",
       "pct_prof_or_above             0            0.0\n",
       "number_tested                 0            0.0\n",
       "school_district               0            0.0\n",
       "ohio                          0            0.0\n",
       "interaction                   0            0.0"
      ]
     },
     "execution_count": 19,
     "metadata": {},
     "output_type": "execute_result"
    }
   ],
   "source": [
    "# Last check for null values\n",
    "null_counts(data)"
   ]
  },
  {
   "cell_type": "markdown",
   "metadata": {},
   "source": [
    "### Exploratory Analysis"
   ]
  },
  {
   "cell_type": "markdown",
   "metadata": {},
   "source": [
    "#### Statistical Description"
   ]
  },
  {
   "cell_type": "code",
   "execution_count": 20,
   "metadata": {
    "scrolled": true
   },
   "outputs": [
    {
     "data": {
      "text/html": [
       "<div>\n",
       "<style scoped>\n",
       "    .dataframe tbody tr th:only-of-type {\n",
       "        vertical-align: middle;\n",
       "    }\n",
       "\n",
       "    .dataframe tbody tr th {\n",
       "        vertical-align: top;\n",
       "    }\n",
       "\n",
       "    .dataframe thead th {\n",
       "        text-align: right;\n",
       "    }\n",
       "</style>\n",
       "<table border=\"1\" class=\"dataframe\">\n",
       "  <thead>\n",
       "    <tr style=\"text-align: right;\">\n",
       "      <th></th>\n",
       "      <th>year</th>\n",
       "      <th>after</th>\n",
       "      <th>ohio</th>\n",
       "      <th>number_tested</th>\n",
       "      <th>pct_prof_or_above</th>\n",
       "      <th>tot_pop</th>\n",
       "      <th>perc_male</th>\n",
       "      <th>perc_female</th>\n",
       "      <th>perc_under5</th>\n",
       "      <th>perc_5to19</th>\n",
       "      <th>perc_20plus</th>\n",
       "      <th>perc_caucasian</th>\n",
       "      <th>perc_otherethnicity</th>\n",
       "      <th>perc_nobach</th>\n",
       "      <th>perc_bachplus</th>\n",
       "      <th>median_inc</th>\n",
       "      <th>interaction</th>\n",
       "    </tr>\n",
       "  </thead>\n",
       "  <tbody>\n",
       "    <tr>\n",
       "      <th>count</th>\n",
       "      <td>348.0000</td>\n",
       "      <td>348.00000</td>\n",
       "      <td>348.000000</td>\n",
       "      <td>348.000000</td>\n",
       "      <td>348.000000</td>\n",
       "      <td>348.000000</td>\n",
       "      <td>348.000000</td>\n",
       "      <td>348.000000</td>\n",
       "      <td>348.000000</td>\n",
       "      <td>348.000000</td>\n",
       "      <td>348.000000</td>\n",
       "      <td>348.000000</td>\n",
       "      <td>348.000000</td>\n",
       "      <td>348.000000</td>\n",
       "      <td>348.000000</td>\n",
       "      <td>348.000000</td>\n",
       "      <td>348.000000</td>\n",
       "    </tr>\n",
       "    <tr>\n",
       "      <th>mean</th>\n",
       "      <td>2010.5000</td>\n",
       "      <td>0.50000</td>\n",
       "      <td>0.833333</td>\n",
       "      <td>483.060345</td>\n",
       "      <td>78.942529</td>\n",
       "      <td>49768.574713</td>\n",
       "      <td>0.485460</td>\n",
       "      <td>0.514540</td>\n",
       "      <td>0.063477</td>\n",
       "      <td>0.172126</td>\n",
       "      <td>0.764167</td>\n",
       "      <td>0.833908</td>\n",
       "      <td>0.169713</td>\n",
       "      <td>0.706466</td>\n",
       "      <td>0.293534</td>\n",
       "      <td>52778.500000</td>\n",
       "      <td>0.416667</td>\n",
       "    </tr>\n",
       "    <tr>\n",
       "      <th>std</th>\n",
       "      <td>2.5036</td>\n",
       "      <td>0.50072</td>\n",
       "      <td>0.373215</td>\n",
       "      <td>486.707274</td>\n",
       "      <td>11.223446</td>\n",
       "      <td>56862.110497</td>\n",
       "      <td>0.019857</td>\n",
       "      <td>0.019857</td>\n",
       "      <td>0.013463</td>\n",
       "      <td>0.029149</td>\n",
       "      <td>0.035603</td>\n",
       "      <td>0.156444</td>\n",
       "      <td>0.161404</td>\n",
       "      <td>0.151198</td>\n",
       "      <td>0.151198</td>\n",
       "      <td>17839.340726</td>\n",
       "      <td>0.493717</td>\n",
       "    </tr>\n",
       "    <tr>\n",
       "      <th>min</th>\n",
       "      <td>2008.0000</td>\n",
       "      <td>0.00000</td>\n",
       "      <td>0.000000</td>\n",
       "      <td>23.000000</td>\n",
       "      <td>45.500000</td>\n",
       "      <td>19642.000000</td>\n",
       "      <td>0.420000</td>\n",
       "      <td>0.410000</td>\n",
       "      <td>0.020000</td>\n",
       "      <td>0.070000</td>\n",
       "      <td>0.660000</td>\n",
       "      <td>0.060000</td>\n",
       "      <td>0.020000</td>\n",
       "      <td>0.260000</td>\n",
       "      <td>0.070000</td>\n",
       "      <td>19023.000000</td>\n",
       "      <td>0.000000</td>\n",
       "    </tr>\n",
       "    <tr>\n",
       "      <th>25%</th>\n",
       "      <td>2008.0000</td>\n",
       "      <td>0.00000</td>\n",
       "      <td>1.000000</td>\n",
       "      <td>263.000000</td>\n",
       "      <td>72.150000</td>\n",
       "      <td>25712.750000</td>\n",
       "      <td>0.480000</td>\n",
       "      <td>0.510000</td>\n",
       "      <td>0.057500</td>\n",
       "      <td>0.160000</td>\n",
       "      <td>0.740000</td>\n",
       "      <td>0.810000</td>\n",
       "      <td>0.070000</td>\n",
       "      <td>0.590000</td>\n",
       "      <td>0.160000</td>\n",
       "      <td>39054.750000</td>\n",
       "      <td>0.000000</td>\n",
       "    </tr>\n",
       "    <tr>\n",
       "      <th>50%</th>\n",
       "      <td>2010.5000</td>\n",
       "      <td>0.50000</td>\n",
       "      <td>1.000000</td>\n",
       "      <td>324.000000</td>\n",
       "      <td>80.550000</td>\n",
       "      <td>33299.500000</td>\n",
       "      <td>0.480000</td>\n",
       "      <td>0.520000</td>\n",
       "      <td>0.060000</td>\n",
       "      <td>0.170000</td>\n",
       "      <td>0.765000</td>\n",
       "      <td>0.895000</td>\n",
       "      <td>0.110000</td>\n",
       "      <td>0.740000</td>\n",
       "      <td>0.260000</td>\n",
       "      <td>48791.000000</td>\n",
       "      <td>0.000000</td>\n",
       "    </tr>\n",
       "    <tr>\n",
       "      <th>75%</th>\n",
       "      <td>2013.0000</td>\n",
       "      <td>1.00000</td>\n",
       "      <td>1.000000</td>\n",
       "      <td>513.500000</td>\n",
       "      <td>87.500000</td>\n",
       "      <td>50959.500000</td>\n",
       "      <td>0.490000</td>\n",
       "      <td>0.520000</td>\n",
       "      <td>0.070000</td>\n",
       "      <td>0.190000</td>\n",
       "      <td>0.780000</td>\n",
       "      <td>0.930000</td>\n",
       "      <td>0.192500</td>\n",
       "      <td>0.840000</td>\n",
       "      <td>0.410000</td>\n",
       "      <td>64843.000000</td>\n",
       "      <td>1.000000</td>\n",
       "    </tr>\n",
       "    <tr>\n",
       "      <th>max</th>\n",
       "      <td>2013.0000</td>\n",
       "      <td>1.00000</td>\n",
       "      <td>1.000000</td>\n",
       "      <td>4193.000000</td>\n",
       "      <td>97.200000</td>\n",
       "      <td>503605.000000</td>\n",
       "      <td>0.590000</td>\n",
       "      <td>0.580000</td>\n",
       "      <td>0.100000</td>\n",
       "      <td>0.260000</td>\n",
       "      <td>0.890000</td>\n",
       "      <td>0.980000</td>\n",
       "      <td>0.940000</td>\n",
       "      <td>0.930000</td>\n",
       "      <td>0.740000</td>\n",
       "      <td>109570.000000</td>\n",
       "      <td>1.000000</td>\n",
       "    </tr>\n",
       "  </tbody>\n",
       "</table>\n",
       "</div>"
      ],
      "text/plain": [
       "            year      after        ohio  number_tested  pct_prof_or_above  \\\n",
       "count   348.0000  348.00000  348.000000     348.000000         348.000000   \n",
       "mean   2010.5000    0.50000    0.833333     483.060345          78.942529   \n",
       "std       2.5036    0.50072    0.373215     486.707274          11.223446   \n",
       "min    2008.0000    0.00000    0.000000      23.000000          45.500000   \n",
       "25%    2008.0000    0.00000    1.000000     263.000000          72.150000   \n",
       "50%    2010.5000    0.50000    1.000000     324.000000          80.550000   \n",
       "75%    2013.0000    1.00000    1.000000     513.500000          87.500000   \n",
       "max    2013.0000    1.00000    1.000000    4193.000000          97.200000   \n",
       "\n",
       "             tot_pop   perc_male  perc_female  perc_under5  perc_5to19  \\\n",
       "count     348.000000  348.000000   348.000000   348.000000  348.000000   \n",
       "mean    49768.574713    0.485460     0.514540     0.063477    0.172126   \n",
       "std     56862.110497    0.019857     0.019857     0.013463    0.029149   \n",
       "min     19642.000000    0.420000     0.410000     0.020000    0.070000   \n",
       "25%     25712.750000    0.480000     0.510000     0.057500    0.160000   \n",
       "50%     33299.500000    0.480000     0.520000     0.060000    0.170000   \n",
       "75%     50959.500000    0.490000     0.520000     0.070000    0.190000   \n",
       "max    503605.000000    0.590000     0.580000     0.100000    0.260000   \n",
       "\n",
       "       perc_20plus  perc_caucasian  perc_otherethnicity  perc_nobach  \\\n",
       "count   348.000000      348.000000           348.000000   348.000000   \n",
       "mean      0.764167        0.833908             0.169713     0.706466   \n",
       "std       0.035603        0.156444             0.161404     0.151198   \n",
       "min       0.660000        0.060000             0.020000     0.260000   \n",
       "25%       0.740000        0.810000             0.070000     0.590000   \n",
       "50%       0.765000        0.895000             0.110000     0.740000   \n",
       "75%       0.780000        0.930000             0.192500     0.840000   \n",
       "max       0.890000        0.980000             0.940000     0.930000   \n",
       "\n",
       "       perc_bachplus     median_inc  interaction  \n",
       "count     348.000000     348.000000   348.000000  \n",
       "mean        0.293534   52778.500000     0.416667  \n",
       "std         0.151198   17839.340726     0.493717  \n",
       "min         0.070000   19023.000000     0.000000  \n",
       "25%         0.160000   39054.750000     0.000000  \n",
       "50%         0.260000   48791.000000     0.000000  \n",
       "75%         0.410000   64843.000000     1.000000  \n",
       "max         0.740000  109570.000000     1.000000  "
      ]
     },
     "execution_count": 20,
     "metadata": {},
     "output_type": "execute_result"
    }
   ],
   "source": [
    "# Checking the descriptive statistics of the data\n",
    "descriptive_data = data.describe()\n",
    "\n",
    "# Saving output to CSV for easier analysis\n",
    "descriptive_data.to_csv(data_loc+'/describe_output.csv')\n",
    "descriptive_data"
   ]
  },
  {
   "cell_type": "markdown",
   "metadata": {},
   "source": [
    "#### Correlation"
   ]
  },
  {
   "cell_type": "markdown",
   "metadata": {},
   "source": [
    " - The only variables that seem to be highly correlated are the variables that I expected. These are the variables that are meant to add to one. For example, 'perc_male' and 'perc_female' add to one for each district. This was expected and will be handled in the modeling notebook by excluding on the variables from the models. Once these variables are dropped during modeling, I don't expect multicollinearity to be an issue with the control variables in this dataset. I will check the VIF when I get to the models though to verify.\n",
    " - The 'ohio' and 'after' variables will likely have some collinearity issues with the 'interaction' variable. This is also to be expected due to the nature of the three variables, but this is necessary for the utilization of the difference-in-difference model."
   ]
  },
  {
   "cell_type": "code",
   "execution_count": 21,
   "metadata": {},
   "outputs": [],
   "source": [
    "# Correlation Function\n",
    "def plot_correlation_matrix_heat_map(df,label,qty_fields=10):\n",
    "    df = pd.concat([df[label],df.drop(label,axis=1)],axis=1)\n",
    "    correlation_matrix = df.corr()\n",
    "    index = correlation_matrix.sort_values(label, ascending=False).index\n",
    "    correlation_matrix = correlation_matrix[index].sort_values(label,ascending=False)\n",
    "\n",
    "    fig,ax = plt.subplots()\n",
    "    fig.set_size_inches((10,10))\n",
    "    sb.heatmap(correlation_matrix.iloc[:qty_fields,:qty_fields],annot=True,fmt='.2f',ax=ax)\n",
    "    return(fig,ax)"
   ]
  },
  {
   "cell_type": "code",
   "execution_count": 22,
   "metadata": {
    "scrolled": false
   },
   "outputs": [
    {
     "data": {
      "image/png": "[encoded data removed]",
      "text/plain": [
       "<Figure size 720x720 with 2 Axes>"
      ]
     },
     "metadata": {
      "needs_background": "light"
     },
     "output_type": "display_data"
    }
   ],
   "source": [
    "# Correlation Plot\n",
    "plot_correlation_matrix_heat_map(data,'pct_prof_or_above',20);"
   ]
  },
  {
   "cell_type": "markdown",
   "metadata": {},
   "source": [
    "#### Variance"
   ]
  },
  {
   "cell_type": "markdown",
   "metadata": {},
   "source": [
    " - All variables have acceptable variance."
   ]
  },
  {
   "cell_type": "code",
   "execution_count": 23,
   "metadata": {
    "scrolled": true
   },
   "outputs": [
    {
     "data": {
      "text/plain": [
       "year                   6.268012e+00\n",
       "after                  2.507205e-01\n",
       "ohio                   1.392891e-01\n",
       "number_tested          2.368840e+05\n",
       "pct_prof_or_above      1.259657e+02\n",
       "tot_pop                3.233300e+09\n",
       "perc_male              3.943125e-04\n",
       "perc_female            3.943125e-04\n",
       "perc_under5            1.812473e-04\n",
       "perc_5to19             8.496439e-04\n",
       "perc_20plus            1.267603e-03\n",
       "perc_caucasian         2.447460e-02\n",
       "perc_otherethnicity    2.605121e-02\n",
       "perc_nobach            2.286096e-02\n",
       "perc_bachplus          2.286096e-02\n",
       "median_inc             3.182421e+08\n",
       "interaction            2.437560e-01\n",
       "dtype: float64"
      ]
     },
     "execution_count": 23,
     "metadata": {},
     "output_type": "execute_result"
    }
   ],
   "source": [
    "data.var()"
   ]
  },
  {
   "cell_type": "markdown",
   "metadata": {},
   "source": [
    "#### Outliers\n",
    "##### Boxplot"
   ]
  },
  {
   "cell_type": "markdown",
   "metadata": {},
   "source": [
    " - The majority of the variables do not seem to have too many extreme outliers. While there are a few, it does not seem to be impacting every variable."
   ]
  },
  {
   "cell_type": "code",
   "execution_count": 24,
   "metadata": {
    "scrolled": true
   },
   "outputs": [
    {
     "name": "stdout",
     "output_type": "stream",
     "text": [
      "An exception occurred for column: school_district\n"
     ]
    },
    {
     "data": {
      "image/png": "[encoded data removed]",
      "text/plain": [
       "<Figure size 432x288 with 1 Axes>"
      ]
     },
     "metadata": {
      "needs_background": "light"
     },
     "output_type": "display_data"
    },
    {
     "data": {
      "image/png": "[encoded data removed]",
      "text/plain": [
       "<Figure size 432x288 with 1 Axes>"
      ]
     },
     "metadata": {
      "needs_background": "light"
     },
     "output_type": "display_data"
    },
    {
     "data": {
      "image/png": "[encoded data removed]",
      "text/plain": [
       "<Figure size 432x288 with 1 Axes>"
      ]
     },
     "metadata": {
      "needs_background": "light"
     },
     "output_type": "display_data"
    },
    {
     "data": {
      "text/plain": [
       "<Figure size 432x288 with 0 Axes>"
      ]
     },
     "metadata": {},
     "output_type": "display_data"
    },
    {
     "data": {
      "image/png": "[encoded data removed]",
      "text/plain": [
       "<Figure size 432x288 with 1 Axes>"
      ]
     },
     "metadata": {
      "needs_background": "light"
     },
     "output_type": "display_data"
    },
    {
     "data": {
      "image/png": "[encoded data removed]",
      "text/plain": [
       "<Figure size 432x288 with 1 Axes>"
      ]
     },
     "metadata": {
      "needs_background": "light"
     },
     "output_type": "display_data"
    },
    {
     "data": {
      "image/png": "[encoded data removed]",
      "text/plain": [
       "<Figure size 432x288 with 1 Axes>"
      ]
     },
     "metadata": {
      "needs_background": "light"
     },
     "output_type": "display_data"
    },
    {
     "data": {
      "image/png": "[encoded data removed]",
      "text/plain": [
       "<Figure size 432x288 with 1 Axes>"
      ]
     },
     "metadata": {
      "needs_background": "light"
     },
     "output_type": "display_data"
    },
    {
     "data": {
      "image/png": "[encoded data removed]",
      "text/plain": [
       "<Figure size 432x288 with 1 Axes>"
      ]
     },
     "metadata": {
      "needs_background": "light"
     },
     "output_type": "display_data"
    },
    {
     "data": {
      "image/png": "[encoded data removed]",
      "text/plain": [
       "<Figure size 432x288 with 1 Axes>"
      ]
     },
     "metadata": {
      "needs_background": "light"
     },
     "output_type": "display_data"
    },
    {
     "data": {
      "image/png": "[encoded data removed]",
      "text/plain": [
       "<Figure size 432x288 with 1 Axes>"
      ]
     },
     "metadata": {
      "needs_background": "light"
     },
     "output_type": "display_data"
    },
    {
     "data": {
      "image/png": "[encoded data removed]",
      "text/plain": [
       "<Figure size 432x288 with 1 Axes>"
      ]
     },
     "metadata": {
      "needs_background": "light"
     },
     "output_type": "display_data"
    },
    {
     "data": {
      "image/png": "[encoded data removed]",
      "text/plain": [
       "<Figure size 432x288 with 1 Axes>"
      ]
     },
     "metadata": {
      "needs_background": "light"
     },
     "output_type": "display_data"
    },
    {
     "data": {
      "image/png": "[encoded data removed]",
      "text/plain": [
       "<Figure size 432x288 with 1 Axes>"
      ]
     },
     "metadata": {
      "needs_background": "light"
     },
     "output_type": "display_data"
    },
    {
     "data": {
      "image/png": "[encoded data removed]",
      "text/plain": [
       "<Figure size 432x288 with 1 Axes>"
      ]
     },
     "metadata": {
      "needs_background": "light"
     },
     "output_type": "display_data"
    },
    {
     "data": {
      "image/png": "[encoded data removed]",
      "text/plain": [
       "<Figure size 432x288 with 1 Axes>"
      ]
     },
     "metadata": {
      "needs_background": "light"
     },
     "output_type": "display_data"
    },
    {
     "data": {
      "image/png": "[encoded data removed]",
      "text/plain": [
       "<Figure size 432x288 with 1 Axes>"
      ]
     },
     "metadata": {
      "needs_background": "light"
     },
     "output_type": "display_data"
    },
    {
     "data": {
      "image/png": "[encoded data removed]",
      "text/plain": [
       "<Figure size 432x288 with 1 Axes>"
      ]
     },
     "metadata": {
      "needs_background": "light"
     },
     "output_type": "display_data"
    }
   ],
   "source": [
    "i = 1\n",
    "for col in data.columns:\n",
    "    plt.figure(i)\n",
    "    try:\n",
    "        sb.boxplot(data=((data[col]-data[col].min())/(data[col].max()-data[col].min()))*100).set_title(col)\n",
    "    except:\n",
    "        print(\"An exception occurred for column: {}\".format(col))\n",
    "    i+=1"
   ]
  },
  {
   "cell_type": "markdown",
   "metadata": {},
   "source": [
    "##### Z_scores"
   ]
  },
  {
   "cell_type": "markdown",
   "metadata": {},
   "source": [
    " - Since z-scores are not necessarily reliable if the data set does not follow a normal distribution, I like to also look at distributions of the data. Some variables are not meant to follow a normal distribution. When looking at z-scores though, I use (-/+) 3 standard deviations as the cut off for an outlier.\n",
    " - In this dataset, the majority of the columns do not have a large number of z-score outliers, as evidenced later in this section. The variable 'number_tested' has the most outliers with 10.\n",
    " - All observations will be kept in the dataset since the majority are not extreme outliers. If necessary I will scale the variables to reduce the impact of outliers in the modeling notebook."
   ]
  },
  {
   "cell_type": "code",
   "execution_count": 25,
   "metadata": {},
   "outputs": [],
   "source": [
    "numeric_cols = data.select_dtypes(exclude=[object])"
   ]
  },
  {
   "cell_type": "code",
   "execution_count": 26,
   "metadata": {},
   "outputs": [
    {
     "name": "stdout",
     "output_type": "stream",
     "text": [
      "(348, 17)\n"
     ]
    }
   ],
   "source": [
    "print(numeric_cols.shape)"
   ]
  },
  {
   "cell_type": "code",
   "execution_count": 27,
   "metadata": {},
   "outputs": [
    {
     "data": {
      "text/html": [
       "<div>\n",
       "<style scoped>\n",
       "    .dataframe tbody tr th:only-of-type {\n",
       "        vertical-align: middle;\n",
       "    }\n",
       "\n",
       "    .dataframe tbody tr th {\n",
       "        vertical-align: top;\n",
       "    }\n",
       "\n",
       "    .dataframe thead th {\n",
       "        text-align: right;\n",
       "    }\n",
       "</style>\n",
       "<table border=\"1\" class=\"dataframe\">\n",
       "  <thead>\n",
       "    <tr style=\"text-align: right;\">\n",
       "      <th></th>\n",
       "      <th>year</th>\n",
       "      <th>after</th>\n",
       "      <th>ohio</th>\n",
       "      <th>number_tested</th>\n",
       "      <th>pct_prof_or_above</th>\n",
       "      <th>tot_pop</th>\n",
       "      <th>perc_male</th>\n",
       "      <th>perc_female</th>\n",
       "      <th>perc_under5</th>\n",
       "      <th>perc_5to19</th>\n",
       "      <th>perc_20plus</th>\n",
       "      <th>perc_caucasian</th>\n",
       "      <th>perc_otherethnicity</th>\n",
       "      <th>perc_nobach</th>\n",
       "      <th>perc_bachplus</th>\n",
       "      <th>median_inc</th>\n",
       "      <th>interaction</th>\n",
       "    </tr>\n",
       "  </thead>\n",
       "  <tbody>\n",
       "    <tr>\n",
       "      <th>0</th>\n",
       "      <td>2008</td>\n",
       "      <td>0</td>\n",
       "      <td>1</td>\n",
       "      <td>315</td>\n",
       "      <td>67.6</td>\n",
       "      <td>23882</td>\n",
       "      <td>0.50</td>\n",
       "      <td>0.50</td>\n",
       "      <td>0.07</td>\n",
       "      <td>0.18</td>\n",
       "      <td>0.75</td>\n",
       "      <td>0.97</td>\n",
       "      <td>0.03</td>\n",
       "      <td>0.90</td>\n",
       "      <td>0.10</td>\n",
       "      <td>35481</td>\n",
       "      <td>0</td>\n",
       "    </tr>\n",
       "    <tr>\n",
       "      <th>1</th>\n",
       "      <td>2013</td>\n",
       "      <td>1</td>\n",
       "      <td>1</td>\n",
       "      <td>283</td>\n",
       "      <td>78.5</td>\n",
       "      <td>22546</td>\n",
       "      <td>0.50</td>\n",
       "      <td>0.50</td>\n",
       "      <td>0.07</td>\n",
       "      <td>0.19</td>\n",
       "      <td>0.74</td>\n",
       "      <td>0.97</td>\n",
       "      <td>0.03</td>\n",
       "      <td>0.90</td>\n",
       "      <td>0.10</td>\n",
       "      <td>32741</td>\n",
       "      <td>1</td>\n",
       "    </tr>\n",
       "    <tr>\n",
       "      <th>2</th>\n",
       "      <td>2008</td>\n",
       "      <td>0</td>\n",
       "      <td>1</td>\n",
       "      <td>1801</td>\n",
       "      <td>60.2</td>\n",
       "      <td>190906</td>\n",
       "      <td>0.48</td>\n",
       "      <td>0.52</td>\n",
       "      <td>0.07</td>\n",
       "      <td>0.17</td>\n",
       "      <td>0.76</td>\n",
       "      <td>0.63</td>\n",
       "      <td>0.37</td>\n",
       "      <td>0.82</td>\n",
       "      <td>0.18</td>\n",
       "      <td>34072</td>\n",
       "      <td>0</td>\n",
       "    </tr>\n",
       "  </tbody>\n",
       "</table>\n",
       "</div>"
      ],
      "text/plain": [
       "   year  after  ohio  number_tested  pct_prof_or_above  tot_pop  perc_male  \\\n",
       "0  2008      0     1            315               67.6    23882       0.50   \n",
       "1  2013      1     1            283               78.5    22546       0.50   \n",
       "2  2008      0     1           1801               60.2   190906       0.48   \n",
       "\n",
       "   perc_female  perc_under5  perc_5to19  perc_20plus  perc_caucasian  \\\n",
       "0         0.50         0.07        0.18         0.75            0.97   \n",
       "1         0.50         0.07        0.19         0.74            0.97   \n",
       "2         0.52         0.07        0.17         0.76            0.63   \n",
       "\n",
       "   perc_otherethnicity  perc_nobach  perc_bachplus  median_inc  interaction  \n",
       "0                 0.03         0.90           0.10       35481            0  \n",
       "1                 0.03         0.90           0.10       32741            1  \n",
       "2                 0.37         0.82           0.18       34072            0  "
      ]
     },
     "execution_count": 27,
     "metadata": {},
     "output_type": "execute_result"
    }
   ],
   "source": [
    "numeric_cols.head(3)"
   ]
  },
  {
   "cell_type": "code",
   "execution_count": 28,
   "metadata": {},
   "outputs": [],
   "source": [
    "# Note that `select_dtypes` returns a data frame. We are selecting only the columns\n",
    "zscores = numeric_cols.apply(zscore)"
   ]
  },
  {
   "cell_type": "code",
   "execution_count": 29,
   "metadata": {
    "scrolled": true
   },
   "outputs": [
    {
     "name": "stdout",
     "output_type": "stream",
     "text": [
      "     year  after      ohio  number_tested  pct_prof_or_above   tot_pop  \\\n",
      "0    -1.0   -1.0  0.447214      -0.345798          -1.012065 -0.455907   \n",
      "1     1.0    1.0  0.447214      -0.411640          -0.039486 -0.479437   \n",
      "2    -1.0   -1.0  0.447214       2.711768          -1.672349  2.485674   \n",
      "3     1.0    1.0  0.447214       2.503953          -0.904992  2.480267   \n",
      "4    -1.0   -1.0  0.447214      -0.584477          -1.574199 -0.477182   \n",
      "..    ...    ...       ...            ...                ...       ...   \n",
      "345   1.0    1.0  0.447214      -0.314934          -0.307168 -0.216000   \n",
      "346  -1.0   -1.0  0.447214       0.020452          -1.832958  0.346413   \n",
      "347   1.0    1.0  0.447214      -0.135925          -2.056027  0.319273   \n",
      "348  -1.0   -1.0  0.447214      -0.376662          -1.752654 -0.405696   \n",
      "349   1.0    1.0  0.447214      -0.475425          -0.458855 -0.399603   \n",
      "\n",
      "     perc_male  perc_female  perc_under5  perc_5to19  perc_20plus  \\\n",
      "0     0.733290    -0.733290     0.485217    0.270507    -0.398475   \n",
      "1     0.733290    -0.733290     0.485217    0.614070    -0.679751   \n",
      "2    -0.275346     0.275346     0.485217   -0.073057    -0.117198   \n",
      "3    -0.275346     0.275346     0.485217   -0.416620     0.164078   \n",
      "4    -0.275346     0.275346    -0.258640   -0.073057     0.164078   \n",
      "..         ...          ...          ...         ...          ...   \n",
      "345  -0.779664     0.779664    -0.258640   -0.416620     0.164078   \n",
      "346   0.228972    -0.228972    -1.002496   -0.073057     0.445354   \n",
      "347   0.228972    -0.228972     0.485217   -0.760183     0.445354   \n",
      "348  -0.779664     0.779664     0.485217   -0.416620     0.164078   \n",
      "349   0.228972    -0.228972     1.229073   -0.073057    -0.398475   \n",
      "\n",
      "     perc_caucasian  perc_otherethnicity  perc_nobach  perc_bachplus  \\\n",
      "0          0.871163            -0.866855     1.281847      -1.281847   \n",
      "1          0.871163            -0.866855     1.281847      -1.281847   \n",
      "2         -1.305273             1.242695     0.751979      -0.751979   \n",
      "3         -1.433299             1.366786     0.685745      -0.685745   \n",
      "4          0.231035            -0.246399     1.149380      -1.149380   \n",
      "..              ...                  ...          ...            ...   \n",
      "345       -0.025017             0.001783     0.487045      -0.487045   \n",
      "346       -2.201453             2.111333     1.215613      -1.215613   \n",
      "347       -2.137440             2.049287     1.215613      -1.215613   \n",
      "348        0.231035            -0.246399     1.083146      -1.083146   \n",
      "349        0.167022            -0.184354     1.149380      -1.149380   \n",
      "\n",
      "     median_inc  interaction  \n",
      "0     -0.971023    -0.845154  \n",
      "1     -1.124837     1.183216  \n",
      "2     -1.050119    -0.845154  \n",
      "3     -1.254120     1.183216  \n",
      "4     -1.078412    -0.845154  \n",
      "..          ...          ...  \n",
      "345   -0.576383     1.183216  \n",
      "346   -1.514481    -0.845154  \n",
      "347   -1.674639     1.183216  \n",
      "348   -1.215610    -0.845154  \n",
      "349   -1.470414     1.183216  \n",
      "\n",
      "[348 rows x 17 columns]\n"
     ]
    }
   ],
   "source": [
    "print(zscores)"
   ]
  },
  {
   "cell_type": "code",
   "execution_count": 30,
   "metadata": {},
   "outputs": [
    {
     "data": {
      "text/html": [
       "<div>\n",
       "<style scoped>\n",
       "    .dataframe tbody tr th:only-of-type {\n",
       "        vertical-align: middle;\n",
       "    }\n",
       "\n",
       "    .dataframe tbody tr th {\n",
       "        vertical-align: top;\n",
       "    }\n",
       "\n",
       "    .dataframe thead th {\n",
       "        text-align: right;\n",
       "    }\n",
       "</style>\n",
       "<table border=\"1\" class=\"dataframe\">\n",
       "  <thead>\n",
       "    <tr style=\"text-align: right;\">\n",
       "      <th></th>\n",
       "      <th>year</th>\n",
       "      <th>after</th>\n",
       "      <th>ohio</th>\n",
       "      <th>number_tested</th>\n",
       "      <th>pct_prof_or_above</th>\n",
       "      <th>tot_pop</th>\n",
       "      <th>perc_male</th>\n",
       "      <th>perc_female</th>\n",
       "      <th>perc_under5</th>\n",
       "      <th>perc_5to19</th>\n",
       "      <th>perc_20plus</th>\n",
       "      <th>perc_caucasian</th>\n",
       "      <th>perc_otherethnicity</th>\n",
       "      <th>perc_nobach</th>\n",
       "      <th>perc_bachplus</th>\n",
       "      <th>median_inc</th>\n",
       "      <th>interaction</th>\n",
       "    </tr>\n",
       "  </thead>\n",
       "  <tbody>\n",
       "    <tr>\n",
       "      <th>count</th>\n",
       "      <td>348.00000</td>\n",
       "      <td>348.00000</td>\n",
       "      <td>3.480000e+02</td>\n",
       "      <td>3.480000e+02</td>\n",
       "      <td>3.480000e+02</td>\n",
       "      <td>3.480000e+02</td>\n",
       "      <td>3.480000e+02</td>\n",
       "      <td>3.480000e+02</td>\n",
       "      <td>3.480000e+02</td>\n",
       "      <td>3.480000e+02</td>\n",
       "      <td>3.480000e+02</td>\n",
       "      <td>3.480000e+02</td>\n",
       "      <td>3.480000e+02</td>\n",
       "      <td>3.480000e+02</td>\n",
       "      <td>3.480000e+02</td>\n",
       "      <td>3.480000e+02</td>\n",
       "      <td>3.480000e+02</td>\n",
       "    </tr>\n",
       "    <tr>\n",
       "      <th>mean</th>\n",
       "      <td>0.00000</td>\n",
       "      <td>0.00000</td>\n",
       "      <td>-1.122984e-16</td>\n",
       "      <td>-3.062684e-17</td>\n",
       "      <td>3.266863e-16</td>\n",
       "      <td>1.020895e-17</td>\n",
       "      <td>3.228580e-16</td>\n",
       "      <td>2.677296e-15</td>\n",
       "      <td>-1.000477e-15</td>\n",
       "      <td>3.879400e-16</td>\n",
       "      <td>4.491937e-16</td>\n",
       "      <td>-1.582387e-16</td>\n",
       "      <td>6.125368e-17</td>\n",
       "      <td>-6.355070e-16</td>\n",
       "      <td>-1.046417e-16</td>\n",
       "      <td>-2.041789e-17</td>\n",
       "      <td>-2.297013e-17</td>\n",
       "    </tr>\n",
       "    <tr>\n",
       "      <th>std</th>\n",
       "      <td>1.00144</td>\n",
       "      <td>1.00144</td>\n",
       "      <td>1.001440e+00</td>\n",
       "      <td>1.001440e+00</td>\n",
       "      <td>1.001440e+00</td>\n",
       "      <td>1.001440e+00</td>\n",
       "      <td>1.001440e+00</td>\n",
       "      <td>1.001440e+00</td>\n",
       "      <td>1.001440e+00</td>\n",
       "      <td>1.001440e+00</td>\n",
       "      <td>1.001440e+00</td>\n",
       "      <td>1.001440e+00</td>\n",
       "      <td>1.001440e+00</td>\n",
       "      <td>1.001440e+00</td>\n",
       "      <td>1.001440e+00</td>\n",
       "      <td>1.001440e+00</td>\n",
       "      <td>1.001440e+00</td>\n",
       "    </tr>\n",
       "    <tr>\n",
       "      <th>min</th>\n",
       "      <td>-1.00000</td>\n",
       "      <td>-1.00000</td>\n",
       "      <td>-2.236068e+00</td>\n",
       "      <td>-9.466117e-01</td>\n",
       "      <td>-2.983993e+00</td>\n",
       "      <td>-5.305810e-01</td>\n",
       "      <td>-3.301255e+00</td>\n",
       "      <td>-5.272154e+00</td>\n",
       "      <td>-3.234065e+00</td>\n",
       "      <td>-3.508687e+00</td>\n",
       "      <td>-2.929962e+00</td>\n",
       "      <td>-4.954005e+00</td>\n",
       "      <td>-9.289009e-01</td>\n",
       "      <td>-2.957097e+00</td>\n",
       "      <td>-1.480547e+00</td>\n",
       "      <td>-1.894919e+00</td>\n",
       "      <td>-8.451543e-01</td>\n",
       "    </tr>\n",
       "    <tr>\n",
       "      <th>25%</th>\n",
       "      <td>-1.00000</td>\n",
       "      <td>-1.00000</td>\n",
       "      <td>4.472136e-01</td>\n",
       "      <td>-4.527921e-01</td>\n",
       "      <td>-6.060803e-01</td>\n",
       "      <td>-4.236646e-01</td>\n",
       "      <td>-2.753461e-01</td>\n",
       "      <td>-2.289720e-01</td>\n",
       "      <td>-4.446038e-01</td>\n",
       "      <td>-4.166195e-01</td>\n",
       "      <td>-6.797512e-01</td>\n",
       "      <td>-1.530422e-01</td>\n",
       "      <td>-6.186730e-01</td>\n",
       "      <td>-7.713918e-01</td>\n",
       "      <td>-8.844455e-01</td>\n",
       "      <td>-7.704046e-01</td>\n",
       "      <td>-8.451543e-01</td>\n",
       "    </tr>\n",
       "    <tr>\n",
       "      <th>50%</th>\n",
       "      <td>0.00000</td>\n",
       "      <td>0.00000</td>\n",
       "      <td>4.472136e-01</td>\n",
       "      <td>-3.272796e-01</td>\n",
       "      <td>1.434306e-01</td>\n",
       "      <td>-2.900488e-01</td>\n",
       "      <td>-2.753461e-01</td>\n",
       "      <td>2.753461e-01</td>\n",
       "      <td>-2.586397e-01</td>\n",
       "      <td>-7.305650e-02</td>\n",
       "      <td>2.343970e-02</td>\n",
       "      <td>3.910670e-01</td>\n",
       "      <td>-3.704906e-01</td>\n",
       "      <td>2.221106e-01</td>\n",
       "      <td>-2.221106e-01</td>\n",
       "      <td>-2.238447e-01</td>\n",
       "      <td>-8.451543e-01</td>\n",
       "    </tr>\n",
       "    <tr>\n",
       "      <th>75%</th>\n",
       "      <td>1.00000</td>\n",
       "      <td>1.00000</td>\n",
       "      <td>4.472136e-01</td>\n",
       "      <td>6.263207e-02</td>\n",
       "      <td>7.635617e-01</td>\n",
       "      <td>2.097425e-02</td>\n",
       "      <td>2.289720e-01</td>\n",
       "      <td>2.753461e-01</td>\n",
       "      <td>4.852167e-01</td>\n",
       "      <td>6.140695e-01</td>\n",
       "      <td>4.453542e-01</td>\n",
       "      <td>6.151119e-01</td>\n",
       "      <td>1.413855e-01</td>\n",
       "      <td>8.844455e-01</td>\n",
       "      <td>7.713918e-01</td>\n",
       "      <td>6.772600e-01</td>\n",
       "      <td>1.183216e+00</td>\n",
       "    </tr>\n",
       "    <tr>\n",
       "      <th>max</th>\n",
       "      <td>1.00000</td>\n",
       "      <td>1.00000</td>\n",
       "      <td>4.472136e-01</td>\n",
       "      <td>7.633503e+00</td>\n",
       "      <td>1.629068e+00</td>\n",
       "      <td>7.992843e+00</td>\n",
       "      <td>5.272154e+00</td>\n",
       "      <td>3.301255e+00</td>\n",
       "      <td>2.716786e+00</td>\n",
       "      <td>3.019011e+00</td>\n",
       "      <td>3.539394e+00</td>\n",
       "      <td>9.351761e-01</td>\n",
       "      <td>4.779293e+00</td>\n",
       "      <td>1.480547e+00</td>\n",
       "      <td>2.957097e+00</td>\n",
       "      <td>3.188082e+00</td>\n",
       "      <td>1.183216e+00</td>\n",
       "    </tr>\n",
       "  </tbody>\n",
       "</table>\n",
       "</div>"
      ],
      "text/plain": [
       "            year      after          ohio  number_tested  pct_prof_or_above  \\\n",
       "count  348.00000  348.00000  3.480000e+02   3.480000e+02       3.480000e+02   \n",
       "mean     0.00000    0.00000 -1.122984e-16  -3.062684e-17       3.266863e-16   \n",
       "std      1.00144    1.00144  1.001440e+00   1.001440e+00       1.001440e+00   \n",
       "min     -1.00000   -1.00000 -2.236068e+00  -9.466117e-01      -2.983993e+00   \n",
       "25%     -1.00000   -1.00000  4.472136e-01  -4.527921e-01      -6.060803e-01   \n",
       "50%      0.00000    0.00000  4.472136e-01  -3.272796e-01       1.434306e-01   \n",
       "75%      1.00000    1.00000  4.472136e-01   6.263207e-02       7.635617e-01   \n",
       "max      1.00000    1.00000  4.472136e-01   7.633503e+00       1.629068e+00   \n",
       "\n",
       "            tot_pop     perc_male   perc_female   perc_under5    perc_5to19  \\\n",
       "count  3.480000e+02  3.480000e+02  3.480000e+02  3.480000e+02  3.480000e+02   \n",
       "mean   1.020895e-17  3.228580e-16  2.677296e-15 -1.000477e-15  3.879400e-16   \n",
       "std    1.001440e+00  1.001440e+00  1.001440e+00  1.001440e+00  1.001440e+00   \n",
       "min   -5.305810e-01 -3.301255e+00 -5.272154e+00 -3.234065e+00 -3.508687e+00   \n",
       "25%   -4.236646e-01 -2.753461e-01 -2.289720e-01 -4.446038e-01 -4.166195e-01   \n",
       "50%   -2.900488e-01 -2.753461e-01  2.753461e-01 -2.586397e-01 -7.305650e-02   \n",
       "75%    2.097425e-02  2.289720e-01  2.753461e-01  4.852167e-01  6.140695e-01   \n",
       "max    7.992843e+00  5.272154e+00  3.301255e+00  2.716786e+00  3.019011e+00   \n",
       "\n",
       "        perc_20plus  perc_caucasian  perc_otherethnicity   perc_nobach  \\\n",
       "count  3.480000e+02    3.480000e+02         3.480000e+02  3.480000e+02   \n",
       "mean   4.491937e-16   -1.582387e-16         6.125368e-17 -6.355070e-16   \n",
       "std    1.001440e+00    1.001440e+00         1.001440e+00  1.001440e+00   \n",
       "min   -2.929962e+00   -4.954005e+00        -9.289009e-01 -2.957097e+00   \n",
       "25%   -6.797512e-01   -1.530422e-01        -6.186730e-01 -7.713918e-01   \n",
       "50%    2.343970e-02    3.910670e-01        -3.704906e-01  2.221106e-01   \n",
       "75%    4.453542e-01    6.151119e-01         1.413855e-01  8.844455e-01   \n",
       "max    3.539394e+00    9.351761e-01         4.779293e+00  1.480547e+00   \n",
       "\n",
       "       perc_bachplus    median_inc   interaction  \n",
       "count   3.480000e+02  3.480000e+02  3.480000e+02  \n",
       "mean   -1.046417e-16 -2.041789e-17 -2.297013e-17  \n",
       "std     1.001440e+00  1.001440e+00  1.001440e+00  \n",
       "min    -1.480547e+00 -1.894919e+00 -8.451543e-01  \n",
       "25%    -8.844455e-01 -7.704046e-01 -8.451543e-01  \n",
       "50%    -2.221106e-01 -2.238447e-01 -8.451543e-01  \n",
       "75%     7.713918e-01  6.772600e-01  1.183216e+00  \n",
       "max     2.957097e+00  3.188082e+00  1.183216e+00  "
      ]
     },
     "execution_count": 30,
     "metadata": {},
     "output_type": "execute_result"
    }
   ],
   "source": [
    "zscores.describe()"
   ]
  },
  {
   "cell_type": "code",
   "execution_count": 31,
   "metadata": {
    "scrolled": true
   },
   "outputs": [
    {
     "data": {
      "text/plain": [
       "year                    0\n",
       "after                   0\n",
       "ohio                    0\n",
       "number_tested           9\n",
       "pct_prof_or_above       0\n",
       "tot_pop                 8\n",
       "perc_male               8\n",
       "perc_female             1\n",
       "perc_under5             0\n",
       "perc_5to19              2\n",
       "perc_20plus             4\n",
       "perc_caucasian          0\n",
       "perc_otherethnicity    10\n",
       "perc_nobach             0\n",
       "perc_bachplus           0\n",
       "median_inc              2\n",
       "interaction             0\n",
       "dtype: int64"
      ]
     },
     "execution_count": 31,
     "metadata": {},
     "output_type": "execute_result"
    }
   ],
   "source": [
    "# Count the number of observations in each column that are above or below 3\n",
    "zscores[(np.abs(zscores > 3))].count()"
   ]
  },
  {
   "cell_type": "markdown",
   "metadata": {},
   "source": [
    "#### Distributions\n",
    " - While some of the variables follow a normal or near-normal distribution, many of the variables are skewed to either the left of the right.       "
   ]
  },
  {
   "cell_type": "code",
   "execution_count": 32,
   "metadata": {
    "scrolled": true
   },
   "outputs": [
    {
     "name": "stdout",
     "output_type": "stream",
     "text": [
      "An exception occurred for column: school_district\n"
     ]
    },
    {
     "data": {
      "image/png": "[encoded data removed]",
      "text/plain": [
       "<Figure size 432x288 with 1 Axes>"
      ]
     },
     "metadata": {
      "needs_background": "light"
     },
     "output_type": "display_data"
    },
    {
     "data": {
      "image/png": "[encoded data removed]",
      "text/plain": [
       "<Figure size 432x288 with 1 Axes>"
      ]
     },
     "metadata": {
      "needs_background": "light"
     },
     "output_type": "display_data"
    },
    {
     "data": {
      "image/png": "[encoded data removed]",
      "text/plain": [
       "<Figure size 432x288 with 1 Axes>"
      ]
     },
     "metadata": {
      "needs_background": "light"
     },
     "output_type": "display_data"
    },
    {
     "data": {
      "text/plain": [
       "<Figure size 432x288 with 0 Axes>"
      ]
     },
     "metadata": {},
     "output_type": "display_data"
    },
    {
     "data": {
      "image/png": "[encoded data removed]",
      "text/plain": [
       "<Figure size 432x288 with 1 Axes>"
      ]
     },
     "metadata": {
      "needs_background": "light"
     },
     "output_type": "display_data"
    },
    {
     "data": {
      "image/png": "[encoded data removed]",
      "text/plain": [
       "<Figure size 432x288 with 1 Axes>"
      ]
     },
     "metadata": {
      "needs_background": "light"
     },
     "output_type": "display_data"
    },
    {
     "data": {
      "image/png": "[encoded data removed]",
      "text/plain": [
       "<Figure size 432x288 with 1 Axes>"
      ]
     },
     "metadata": {
      "needs_background": "light"
     },
     "output_type": "display_data"
    },
    {
     "data": {
      "image/png": "[encoded data removed]",
      "text/plain": [
       "<Figure size 432x288 with 1 Axes>"
      ]
     },
     "metadata": {
      "needs_background": "light"
     },
     "output_type": "display_data"
    },
    {
     "data": {
      "image/png": "[encoded data removed]",
      "text/plain": [
       "<Figure size 432x288 with 1 Axes>"
      ]
     },
     "metadata": {
      "needs_background": "light"
     },
     "output_type": "display_data"
    },
    {
     "data": {
      "image/png": "[encoded data removed]",
      "text/plain": [
       "<Figure size 432x288 with 1 Axes>"
      ]
     },
     "metadata": {
      "needs_background": "light"
     },
     "output_type": "display_data"
    },
    {
     "data": {
      "image/png": "[encoded data removed]",
      "text/plain": [
       "<Figure size 432x288 with 1 Axes>"
      ]
     },
     "metadata": {
      "needs_background": "light"
     },
     "output_type": "display_data"
    },
    {
     "data": {
      "image/png": "[encoded data removed]",
      "text/plain": [
       "<Figure size 432x288 with 1 Axes>"
      ]
     },
     "metadata": {
      "needs_background": "light"
     },
     "output_type": "display_data"
    },
    {
     "data": {
      "image/png": "[encoded data removed]",
      "text/plain": [
       "<Figure size 432x288 with 1 Axes>"
      ]
     },
     "metadata": {
      "needs_background": "light"
     },
     "output_type": "display_data"
    },
    {
     "data": {
      "image/png": "[encoded data removed]",
      "text/plain": [
       "<Figure size 432x288 with 1 Axes>"
      ]
     },
     "metadata": {
      "needs_background": "light"
     },
     "output_type": "display_data"
    },
    {
     "data": {
      "image/png": "[encoded data removed]",
      "text/plain": [
       "<Figure size 432x288 with 1 Axes>"
      ]
     },
     "metadata": {
      "needs_background": "light"
     },
     "output_type": "display_data"
    },
    {
     "data": {
      "image/png": "[encoded data removed]",
      "text/plain": [
       "<Figure size 432x288 with 1 Axes>"
      ]
     },
     "metadata": {
      "needs_background": "light"
     },
     "output_type": "display_data"
    },
    {
     "data": {
      "image/png": "[encoded data removed]",
      "text/plain": [
       "<Figure size 432x288 with 1 Axes>"
      ]
     },
     "metadata": {
      "needs_background": "light"
     },
     "output_type": "display_data"
    },
    {
     "data": {
      "image/png": "[encoded data removed]",
      "text/plain": [
       "<Figure size 432x288 with 1 Axes>"
      ]
     },
     "metadata": {
      "needs_background": "light"
     },
     "output_type": "display_data"
    }
   ],
   "source": [
    "# Creating a histogram for each variables\n",
    "i = 1\n",
    "for col in data.columns:\n",
    "    plt.figure(i)\n",
    "    try:\n",
    "        data2=((data[col]-data[col].min())/(data[col].max()-data[col].min()))*100\n",
    "        data2.hist(bins=100)\n",
    "        plt.title(col)\n",
    "    except:\n",
    "        print(\"An exception occurred for column: {}\".format(col))\n",
    "    \n",
    "    i+=1\n",
    "plt.show()"
   ]
  },
  {
   "cell_type": "markdown",
   "metadata": {},
   "source": [
    "### Variable Transformations"
   ]
  },
  {
   "cell_type": "markdown",
   "metadata": {},
   "source": [
    "* Two of the variables that will be used in the model need to be log transformed. They are the only variables in the dataset that are large, whole numbers and may have a negative impact on the model."
   ]
  },
  {
   "cell_type": "code",
   "execution_count": 33,
   "metadata": {},
   "outputs": [
    {
     "data": {
      "text/html": [
       "<div>\n",
       "<style scoped>\n",
       "    .dataframe tbody tr th:only-of-type {\n",
       "        vertical-align: middle;\n",
       "    }\n",
       "\n",
       "    .dataframe tbody tr th {\n",
       "        vertical-align: top;\n",
       "    }\n",
       "\n",
       "    .dataframe thead th {\n",
       "        text-align: right;\n",
       "    }\n",
       "</style>\n",
       "<table border=\"1\" class=\"dataframe\">\n",
       "  <thead>\n",
       "    <tr style=\"text-align: right;\">\n",
       "      <th></th>\n",
       "      <th>tot_pop_log</th>\n",
       "      <th>median_inc_log</th>\n",
       "      <th>year</th>\n",
       "      <th>after</th>\n",
       "      <th>ohio</th>\n",
       "      <th>school_district</th>\n",
       "      <th>number_tested</th>\n",
       "      <th>pct_prof_or_above</th>\n",
       "      <th>tot_pop</th>\n",
       "      <th>perc_male</th>\n",
       "      <th>perc_female</th>\n",
       "      <th>perc_under5</th>\n",
       "      <th>perc_5to19</th>\n",
       "      <th>perc_20plus</th>\n",
       "      <th>perc_caucasian</th>\n",
       "      <th>perc_otherethnicity</th>\n",
       "      <th>perc_nobach</th>\n",
       "      <th>perc_bachplus</th>\n",
       "      <th>median_inc</th>\n",
       "      <th>interaction</th>\n",
       "    </tr>\n",
       "  </thead>\n",
       "  <tbody>\n",
       "    <tr>\n",
       "      <th>0</th>\n",
       "      <td>10.080922</td>\n",
       "      <td>10.476781</td>\n",
       "      <td>2008</td>\n",
       "      <td>0</td>\n",
       "      <td>1</td>\n",
       "      <td>Adams County/Ohio Valley Local School District...</td>\n",
       "      <td>315</td>\n",
       "      <td>67.6</td>\n",
       "      <td>23882</td>\n",
       "      <td>0.50</td>\n",
       "      <td>0.50</td>\n",
       "      <td>0.07</td>\n",
       "      <td>0.18</td>\n",
       "      <td>0.75</td>\n",
       "      <td>0.97</td>\n",
       "      <td>0.03</td>\n",
       "      <td>0.90</td>\n",
       "      <td>0.10</td>\n",
       "      <td>35481</td>\n",
       "      <td>0</td>\n",
       "    </tr>\n",
       "    <tr>\n",
       "      <th>1</th>\n",
       "      <td>10.023357</td>\n",
       "      <td>10.396414</td>\n",
       "      <td>2013</td>\n",
       "      <td>1</td>\n",
       "      <td>1</td>\n",
       "      <td>Adams County/Ohio Valley Local School District...</td>\n",
       "      <td>283</td>\n",
       "      <td>78.5</td>\n",
       "      <td>22546</td>\n",
       "      <td>0.50</td>\n",
       "      <td>0.50</td>\n",
       "      <td>0.07</td>\n",
       "      <td>0.19</td>\n",
       "      <td>0.74</td>\n",
       "      <td>0.97</td>\n",
       "      <td>0.03</td>\n",
       "      <td>0.90</td>\n",
       "      <td>0.10</td>\n",
       "      <td>32741</td>\n",
       "      <td>1</td>\n",
       "    </tr>\n",
       "    <tr>\n",
       "      <th>2</th>\n",
       "      <td>12.159542</td>\n",
       "      <td>10.436261</td>\n",
       "      <td>2008</td>\n",
       "      <td>0</td>\n",
       "      <td>1</td>\n",
       "      <td>Akron City School District, Ohio</td>\n",
       "      <td>1801</td>\n",
       "      <td>60.2</td>\n",
       "      <td>190906</td>\n",
       "      <td>0.48</td>\n",
       "      <td>0.52</td>\n",
       "      <td>0.07</td>\n",
       "      <td>0.17</td>\n",
       "      <td>0.76</td>\n",
       "      <td>0.63</td>\n",
       "      <td>0.37</td>\n",
       "      <td>0.82</td>\n",
       "      <td>0.18</td>\n",
       "      <td>34072</td>\n",
       "      <td>0</td>\n",
       "    </tr>\n",
       "    <tr>\n",
       "      <th>3</th>\n",
       "      <td>12.157932</td>\n",
       "      <td>10.323480</td>\n",
       "      <td>2013</td>\n",
       "      <td>1</td>\n",
       "      <td>1</td>\n",
       "      <td>Akron City School District, Ohio</td>\n",
       "      <td>1700</td>\n",
       "      <td>68.8</td>\n",
       "      <td>190599</td>\n",
       "      <td>0.48</td>\n",
       "      <td>0.52</td>\n",
       "      <td>0.07</td>\n",
       "      <td>0.16</td>\n",
       "      <td>0.77</td>\n",
       "      <td>0.61</td>\n",
       "      <td>0.39</td>\n",
       "      <td>0.81</td>\n",
       "      <td>0.19</td>\n",
       "      <td>30438</td>\n",
       "      <td>1</td>\n",
       "    </tr>\n",
       "    <tr>\n",
       "      <th>4</th>\n",
       "      <td>10.029018</td>\n",
       "      <td>10.421358</td>\n",
       "      <td>2008</td>\n",
       "      <td>0</td>\n",
       "      <td>1</td>\n",
       "      <td>Alliance City School District, Ohio</td>\n",
       "      <td>199</td>\n",
       "      <td>61.3</td>\n",
       "      <td>22674</td>\n",
       "      <td>0.48</td>\n",
       "      <td>0.52</td>\n",
       "      <td>0.06</td>\n",
       "      <td>0.17</td>\n",
       "      <td>0.77</td>\n",
       "      <td>0.87</td>\n",
       "      <td>0.13</td>\n",
       "      <td>0.88</td>\n",
       "      <td>0.12</td>\n",
       "      <td>33568</td>\n",
       "      <td>0</td>\n",
       "    </tr>\n",
       "  </tbody>\n",
       "</table>\n",
       "</div>"
      ],
      "text/plain": [
       "   tot_pop_log  median_inc_log  year  after  ohio  \\\n",
       "0    10.080922       10.476781  2008      0     1   \n",
       "1    10.023357       10.396414  2013      1     1   \n",
       "2    12.159542       10.436261  2008      0     1   \n",
       "3    12.157932       10.323480  2013      1     1   \n",
       "4    10.029018       10.421358  2008      0     1   \n",
       "\n",
       "                                     school_district  number_tested  \\\n",
       "0  Adams County/Ohio Valley Local School District...            315   \n",
       "1  Adams County/Ohio Valley Local School District...            283   \n",
       "2                   Akron City School District, Ohio           1801   \n",
       "3                   Akron City School District, Ohio           1700   \n",
       "4                Alliance City School District, Ohio            199   \n",
       "\n",
       "   pct_prof_or_above  tot_pop  perc_male  perc_female  perc_under5  \\\n",
       "0               67.6    23882       0.50         0.50         0.07   \n",
       "1               78.5    22546       0.50         0.50         0.07   \n",
       "2               60.2   190906       0.48         0.52         0.07   \n",
       "3               68.8   190599       0.48         0.52         0.07   \n",
       "4               61.3    22674       0.48         0.52         0.06   \n",
       "\n",
       "   perc_5to19  perc_20plus  perc_caucasian  perc_otherethnicity  perc_nobach  \\\n",
       "0        0.18         0.75            0.97                 0.03         0.90   \n",
       "1        0.19         0.74            0.97                 0.03         0.90   \n",
       "2        0.17         0.76            0.63                 0.37         0.82   \n",
       "3        0.16         0.77            0.61                 0.39         0.81   \n",
       "4        0.17         0.77            0.87                 0.13         0.88   \n",
       "\n",
       "   perc_bachplus  median_inc  interaction  \n",
       "0           0.10       35481            0  \n",
       "1           0.10       32741            1  \n",
       "2           0.18       34072            0  \n",
       "3           0.19       30438            1  \n",
       "4           0.12       33568            0  "
      ]
     },
     "execution_count": 33,
     "metadata": {},
     "output_type": "execute_result"
    }
   ],
   "source": [
    "# Creating logged versions of certain variables\n",
    "log_df = data[['tot_pop','median_inc']].apply(lambda x: np.log(x+1))\n",
    "\n",
    "# Rename columns\n",
    "log_df = pd.DataFrame(log_df)\n",
    "log_df.columns = ['tot_pop_log', 'median_inc_log']\n",
    "data = pd.concat([log_df, data], axis=1)\n",
    "data.head()"
   ]
  },
  {
   "cell_type": "markdown",
   "metadata": {},
   "source": [
    "## Verifying the Data Quality"
   ]
  },
  {
   "cell_type": "markdown",
   "metadata": {},
   "source": [
    "### Data Source and Reliability"
   ]
  },
  {
   "cell_type": "markdown",
   "metadata": {},
   "source": [
    "- Data Origin: Reading scores were pulled directly from the Ohio Department of Education & Iowa Department of Education's websites while demographic information was pulled directly from the U.S. Census Bureau's website. Due to the sources from which the data was pulled, I believe it to be highly reliable. \n",
    "- Reliability: Due to the sources from which the data was pulled, I believe it to be highly reliable. "
   ]
  },
  {
   "cell_type": "markdown",
   "metadata": {},
   "source": [
    "## Save the Modeling Dataset"
   ]
  },
  {
   "cell_type": "code",
   "execution_count": 35,
   "metadata": {
    "scrolled": true
   },
   "outputs": [],
   "source": [
    "# Exporting the data set to CSV \n",
    "data.to_csv((data_loc+'/reading_clean.csv'), index = False)"
   ]
  }
 ],
 "metadata": {
  "kernelspec": {
   "display_name": "Python 3",
   "language": "python",
   "name": "python3"
  },
  "language_info": {
   "codemirror_mode": {
    "name": "ipython",
    "version": 3
   },
   "file_extension": ".py",
   "mimetype": "text/x-python",
   "name": "python",
   "nbconvert_exporter": "python",
   "pygments_lexer": "ipython3",
   "version": "3.7.6"
  }
 },
 "nbformat": 4,
 "nbformat_minor": 4
}
