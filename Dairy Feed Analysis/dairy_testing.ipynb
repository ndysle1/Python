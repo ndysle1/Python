{
 "cells": [
  {
   "cell_type": "markdown",
   "metadata": {},
   "source": [
    "# Dairy Feed Analysis  \n",
    "## (Hypothesis Testing & Cost-Benefit Analysis)"
   ]
  },
  {
   "cell_type": "markdown",
   "metadata": {},
   "source": [
    "### Experimental Design"
   ]
  },
  {
   "cell_type": "markdown",
   "metadata": {},
   "source": [
    "* In order to perform hypothesis testing, I chose to create a mock dataset that focuses on a hypothetical dairy farm. The dairy farm is a mid-size operation with 372 lactating cows and they are trying to increase their profitability by either cutting costs or increasing milk production. The local feed mill offered to add a new feed additive to their mix to increase milk production but it comes with an extra cost of \\\\$50 per ton. To determine if it is worth the cost, the dairy farm decided to test the new feed out on a portion of their herd.\n",
    "* Due to space and facility constraints, they were only able to break cows into two groups. The experiment was set up to record the milk production of the cows the day before the feed change and then record it again after they received the feed for a week's duration. The need to wait a week's time was due to the nature of dairy farming. A change in feed will not necessarily affect a cow's milk production imediately, so allowing the treatment group to eat the feed for a week was determined to be enough time for their milk production to be satisfactorily affected by the feed additive.\n",
    "* The herd was split into the following groups:\n",
    "    * Treatment Group: Approximately 25% of the herd was chosen (at random) to receive the new feed additive\n",
    "    * Control Group: The remaining ~75% of the herd did not receive the additive in their feed"
   ]
  },
  {
   "cell_type": "markdown",
   "metadata": {},
   "source": [
    "#### Hypotheses"
   ]
  },
  {
   "cell_type": "markdown",
   "metadata": {},
   "source": [
    "###### Null Hypothesis \n",
    "$H_0: p_x = p_0$\n",
    "* The old feed and the new feed have the same effect on a cow's milk production. This is essentially saying that there is no difference between the two feeds.\n",
    "\n",
    "##### Alternative Hypothesis\n",
    "$H_1: p_x \\neq p_0$\n",
    "* The old feed and the new feed have differing effects on a cow's milk production. This is saying that one type of feed is better than the other. In the case of this experiment, the farmer is hoping the feed with the new additive is better."
   ]
  },
  {
   "cell_type": "markdown",
   "metadata": {},
   "source": [
    "#### Assumptions/Success Determinations"
   ]
  },
  {
   "cell_type": "markdown",
   "metadata": {},
   "source": [
    "1) It is assumed that the two groups of cows will be similarily affected by all other extraneous factors. For example, a cow's health, comfort, the weather, the time of year, etc. can all affect a cow's milk production. Since both groups of cows are on the same farm and the feed experiment is happening over the same week, it is assumed that all else remains equal.  \n",
    "2) The results of this experiment will be determined using a significance level of 0.05. In other words, the p-value would need to be less than 0.05 to be considered statistically significant.   \n",
    "3) The increase in milk production must be substantial enough to make the extra \\\\$50 per ton worth the farmer's time. This will be estimated at the end of the experiment using a milk price of \\\\$15.00 cwt.  "
   ]
  },
  {
   "cell_type": "markdown",
   "metadata": {},
   "source": [
    "### Settings/Functions\n",
    "Read in settings and functions."
   ]
  },
  {
   "cell_type": "code",
   "execution_count": 69,
   "metadata": {
    "scrolled": false
   },
   "outputs": [],
   "source": [
    "import pandas as pd\n",
    "import matplotlib.pyplot as plt\n",
    "import numpy as np\n",
    "import seaborn as sb\n",
    "import scipy as sp\n",
    "from scipy.stats import zscore\n",
    "from statsmodels.stats.proportion import proportions_ztest, proportion_confint\n",
    "from scipy.stats import ttest_ind, ttest_rel, shapiro\n",
    "import sys\n",
    "import warnings\n",
    "warnings.filterwarnings(\"ignore\", category=RuntimeWarning)"
   ]
  },
  {
   "cell_type": "markdown",
   "metadata": {},
   "source": [
    "### Data"
   ]
  },
  {
   "cell_type": "code",
   "execution_count": 70,
   "metadata": {
    "scrolled": false
   },
   "outputs": [],
   "source": [
    "# Import dataset\n",
    "data_loc = 'C://Users/User/Documents/GitHub/Python/Dairy Feed Analysis/'\n",
    "data = pd.read_csv(data_loc+'dairy_data.csv')"
   ]
  },
  {
   "cell_type": "code",
   "execution_count": 71,
   "metadata": {},
   "outputs": [
    {
     "data": {
      "text/html": [
       "<div>\n",
       "<style scoped>\n",
       "    .dataframe tbody tr th:only-of-type {\n",
       "        vertical-align: middle;\n",
       "    }\n",
       "\n",
       "    .dataframe tbody tr th {\n",
       "        vertical-align: top;\n",
       "    }\n",
       "\n",
       "    .dataframe thead th {\n",
       "        text-align: right;\n",
       "    }\n",
       "</style>\n",
       "<table border=\"1\" class=\"dataframe\">\n",
       "  <thead>\n",
       "    <tr style=\"text-align: right;\">\n",
       "      <th></th>\n",
       "      <th>id_tag</th>\n",
       "      <th>group</th>\n",
       "      <th>lactation</th>\n",
       "      <th>time</th>\n",
       "      <th>lbs_milk</th>\n",
       "    </tr>\n",
       "  </thead>\n",
       "  <tbody>\n",
       "    <tr>\n",
       "      <th>0</th>\n",
       "      <td>22</td>\n",
       "      <td>control</td>\n",
       "      <td>5</td>\n",
       "      <td>after</td>\n",
       "      <td>65.987920</td>\n",
       "    </tr>\n",
       "    <tr>\n",
       "      <th>1</th>\n",
       "      <td>59</td>\n",
       "      <td>control</td>\n",
       "      <td>4</td>\n",
       "      <td>after</td>\n",
       "      <td>63.668600</td>\n",
       "    </tr>\n",
       "    <tr>\n",
       "      <th>2</th>\n",
       "      <td>90</td>\n",
       "      <td>control</td>\n",
       "      <td>2</td>\n",
       "      <td>after</td>\n",
       "      <td>78.158056</td>\n",
       "    </tr>\n",
       "    <tr>\n",
       "      <th>3</th>\n",
       "      <td>144</td>\n",
       "      <td>control</td>\n",
       "      <td>5</td>\n",
       "      <td>after</td>\n",
       "      <td>75.672886</td>\n",
       "    </tr>\n",
       "    <tr>\n",
       "      <th>4</th>\n",
       "      <td>193</td>\n",
       "      <td>control</td>\n",
       "      <td>1</td>\n",
       "      <td>after</td>\n",
       "      <td>99.385129</td>\n",
       "    </tr>\n",
       "  </tbody>\n",
       "</table>\n",
       "</div>"
      ],
      "text/plain": [
       "   id_tag    group  lactation   time   lbs_milk\n",
       "0      22  control          5  after  65.987920\n",
       "1      59  control          4  after  63.668600\n",
       "2      90  control          2  after  78.158056\n",
       "3     144  control          5  after  75.672886\n",
       "4     193  control          1  after  99.385129"
      ]
     },
     "execution_count": 71,
     "metadata": {},
     "output_type": "execute_result"
    }
   ],
   "source": [
    "data.head()"
   ]
  },
  {
   "cell_type": "markdown",
   "metadata": {},
   "source": [
    "## Describing the Data"
   ]
  },
  {
   "cell_type": "markdown",
   "metadata": {},
   "source": [
    "### Variables"
   ]
  },
  {
   "cell_type": "markdown",
   "metadata": {},
   "source": [
    "1) *id_tag -* the identification number of the cow  \n",
    "2) *group -* the group that the cow was placed in at random (control vs treatment)  \n",
    "3) *lactation -* the lactation that the cow is currently on  \n",
    "4) *lbs_milk -* the pounds of milk that the cow produced  \n",
    "5) *time -* the time that the milk production was recorded during (either before or after the feed was changed)  "
   ]
  },
  {
   "cell_type": "markdown",
   "metadata": {},
   "source": [
    "### Data Shape"
   ]
  },
  {
   "cell_type": "code",
   "execution_count": 72,
   "metadata": {
    "scrolled": false
   },
   "outputs": [
    {
     "name": "stdout",
     "output_type": "stream",
     "text": [
      "data shape: (744, 5)\n"
     ]
    }
   ],
   "source": [
    "print(\"data shape: {}\".format(data.shape))"
   ]
  },
  {
   "cell_type": "markdown",
   "metadata": {},
   "source": [
    "### Data Type"
   ]
  },
  {
   "cell_type": "markdown",
   "metadata": {},
   "source": [
    " - The data set contains the following data types:\n",
    "    - Character (2)\n",
    "    - Integer (2)\n",
    "    - Numeric (1)"
   ]
  },
  {
   "cell_type": "code",
   "execution_count": 73,
   "metadata": {
    "scrolled": false
   },
   "outputs": [
    {
     "name": "stdout",
     "output_type": "stream",
     "text": [
      "data types: int64      2\n",
      "object     2\n",
      "float64    1\n",
      "dtype: int64\n"
     ]
    }
   ],
   "source": [
    "print(\"data types: {}\".format(data.dtypes.value_counts()))"
   ]
  },
  {
   "cell_type": "markdown",
   "metadata": {},
   "source": [
    "## Exploring the Data"
   ]
  },
  {
   "cell_type": "code",
   "execution_count": 74,
   "metadata": {},
   "outputs": [],
   "source": [
    "def null_counts(df):\n",
    "    null_df = pd.DataFrame(df.isnull().sum(),columns=['null_count'])\n",
    "    null_df['null_fraction'] = null_df['null_count'] / df.shape[0]\n",
    "    null_df = null_df.sort_values('null_count',ascending=False)\n",
    "    return null_df"
   ]
  },
  {
   "cell_type": "code",
   "execution_count": 75,
   "metadata": {
    "scrolled": true
   },
   "outputs": [
    {
     "data": {
      "text/html": [
       "<div>\n",
       "<style scoped>\n",
       "    .dataframe tbody tr th:only-of-type {\n",
       "        vertical-align: middle;\n",
       "    }\n",
       "\n",
       "    .dataframe tbody tr th {\n",
       "        vertical-align: top;\n",
       "    }\n",
       "\n",
       "    .dataframe thead th {\n",
       "        text-align: right;\n",
       "    }\n",
       "</style>\n",
       "<table border=\"1\" class=\"dataframe\">\n",
       "  <thead>\n",
       "    <tr style=\"text-align: right;\">\n",
       "      <th></th>\n",
       "      <th>null_count</th>\n",
       "      <th>null_fraction</th>\n",
       "    </tr>\n",
       "  </thead>\n",
       "  <tbody>\n",
       "    <tr>\n",
       "      <th>id_tag</th>\n",
       "      <td>0</td>\n",
       "      <td>0.0</td>\n",
       "    </tr>\n",
       "    <tr>\n",
       "      <th>group</th>\n",
       "      <td>0</td>\n",
       "      <td>0.0</td>\n",
       "    </tr>\n",
       "    <tr>\n",
       "      <th>lactation</th>\n",
       "      <td>0</td>\n",
       "      <td>0.0</td>\n",
       "    </tr>\n",
       "    <tr>\n",
       "      <th>time</th>\n",
       "      <td>0</td>\n",
       "      <td>0.0</td>\n",
       "    </tr>\n",
       "    <tr>\n",
       "      <th>lbs_milk</th>\n",
       "      <td>0</td>\n",
       "      <td>0.0</td>\n",
       "    </tr>\n",
       "  </tbody>\n",
       "</table>\n",
       "</div>"
      ],
      "text/plain": [
       "           null_count  null_fraction\n",
       "id_tag              0            0.0\n",
       "group               0            0.0\n",
       "lactation           0            0.0\n",
       "time                0            0.0\n",
       "lbs_milk            0            0.0"
      ]
     },
     "execution_count": 75,
     "metadata": {},
     "output_type": "execute_result"
    }
   ],
   "source": [
    "# Checking for NA values \n",
    "null_counts(data)\n",
    "# Since the dataset was mocked up, there are no null values"
   ]
  },
  {
   "cell_type": "markdown",
   "metadata": {},
   "source": [
    "#### Statistical Description"
   ]
  },
  {
   "cell_type": "code",
   "execution_count": 76,
   "metadata": {
    "scrolled": true
   },
   "outputs": [
    {
     "data": {
      "text/html": [
       "<div>\n",
       "<style scoped>\n",
       "    .dataframe tbody tr th:only-of-type {\n",
       "        vertical-align: middle;\n",
       "    }\n",
       "\n",
       "    .dataframe tbody tr th {\n",
       "        vertical-align: top;\n",
       "    }\n",
       "\n",
       "    .dataframe thead th {\n",
       "        text-align: right;\n",
       "    }\n",
       "</style>\n",
       "<table border=\"1\" class=\"dataframe\">\n",
       "  <thead>\n",
       "    <tr style=\"text-align: right;\">\n",
       "      <th></th>\n",
       "      <th>id_tag</th>\n",
       "      <th>lactation</th>\n",
       "      <th>lbs_milk</th>\n",
       "    </tr>\n",
       "  </thead>\n",
       "  <tbody>\n",
       "    <tr>\n",
       "      <th>count</th>\n",
       "      <td>744.000000</td>\n",
       "      <td>744.000000</td>\n",
       "      <td>744.000000</td>\n",
       "    </tr>\n",
       "    <tr>\n",
       "      <th>mean</th>\n",
       "      <td>5008.258065</td>\n",
       "      <td>3.274194</td>\n",
       "      <td>71.355123</td>\n",
       "    </tr>\n",
       "    <tr>\n",
       "      <th>std</th>\n",
       "      <td>2878.791753</td>\n",
       "      <td>1.458287</td>\n",
       "      <td>22.758228</td>\n",
       "    </tr>\n",
       "    <tr>\n",
       "      <th>min</th>\n",
       "      <td>22.000000</td>\n",
       "      <td>1.000000</td>\n",
       "      <td>19.143847</td>\n",
       "    </tr>\n",
       "    <tr>\n",
       "      <th>25%</th>\n",
       "      <td>2461.750000</td>\n",
       "      <td>2.000000</td>\n",
       "      <td>55.441659</td>\n",
       "    </tr>\n",
       "    <tr>\n",
       "      <th>50%</th>\n",
       "      <td>4990.000000</td>\n",
       "      <td>3.000000</td>\n",
       "      <td>69.875072</td>\n",
       "    </tr>\n",
       "    <tr>\n",
       "      <th>75%</th>\n",
       "      <td>7502.750000</td>\n",
       "      <td>4.000000</td>\n",
       "      <td>87.986467</td>\n",
       "    </tr>\n",
       "    <tr>\n",
       "      <th>max</th>\n",
       "      <td>9983.000000</td>\n",
       "      <td>6.000000</td>\n",
       "      <td>132.825686</td>\n",
       "    </tr>\n",
       "  </tbody>\n",
       "</table>\n",
       "</div>"
      ],
      "text/plain": [
       "            id_tag   lactation    lbs_milk\n",
       "count   744.000000  744.000000  744.000000\n",
       "mean   5008.258065    3.274194   71.355123\n",
       "std    2878.791753    1.458287   22.758228\n",
       "min      22.000000    1.000000   19.143847\n",
       "25%    2461.750000    2.000000   55.441659\n",
       "50%    4990.000000    3.000000   69.875072\n",
       "75%    7502.750000    4.000000   87.986467\n",
       "max    9983.000000    6.000000  132.825686"
      ]
     },
     "execution_count": 76,
     "metadata": {},
     "output_type": "execute_result"
    }
   ],
   "source": [
    "# Checking the descriptive statistics of the data\n",
    "data.describe()"
   ]
  },
  {
   "cell_type": "code",
   "execution_count": 77,
   "metadata": {
    "scrolled": true
   },
   "outputs": [
    {
     "data": {
      "text/html": [
       "<div>\n",
       "<style scoped>\n",
       "    .dataframe tbody tr th:only-of-type {\n",
       "        vertical-align: middle;\n",
       "    }\n",
       "\n",
       "    .dataframe tbody tr th {\n",
       "        vertical-align: top;\n",
       "    }\n",
       "\n",
       "    .dataframe thead th {\n",
       "        text-align: right;\n",
       "    }\n",
       "</style>\n",
       "<table border=\"1\" class=\"dataframe\">\n",
       "  <thead>\n",
       "    <tr style=\"text-align: right;\">\n",
       "      <th>time</th>\n",
       "      <th>after</th>\n",
       "      <th>before</th>\n",
       "    </tr>\n",
       "    <tr>\n",
       "      <th>group</th>\n",
       "      <th></th>\n",
       "      <th></th>\n",
       "    </tr>\n",
       "  </thead>\n",
       "  <tbody>\n",
       "    <tr>\n",
       "      <th>control</th>\n",
       "      <td>290</td>\n",
       "      <td>290</td>\n",
       "    </tr>\n",
       "    <tr>\n",
       "      <th>treatment</th>\n",
       "      <td>82</td>\n",
       "      <td>82</td>\n",
       "    </tr>\n",
       "  </tbody>\n",
       "</table>\n",
       "</div>"
      ],
      "text/plain": [
       "time       after  before\n",
       "group                   \n",
       "control      290     290\n",
       "treatment     82      82"
      ]
     },
     "execution_count": 77,
     "metadata": {},
     "output_type": "execute_result"
    }
   ],
   "source": [
    "# Checking the counts\n",
    "pd.crosstab(data['group'],data['time'])\n",
    "# Approximately 22% of the cows on the farm were selected at random to be included in the treatment group"
   ]
  },
  {
   "cell_type": "markdown",
   "metadata": {},
   "source": [
    "#### Correlation"
   ]
  },
  {
   "cell_type": "code",
   "execution_count": 78,
   "metadata": {
    "scrolled": false
   },
   "outputs": [],
   "source": [
    "# Correlation Function\n",
    "def plot_correlation_matrix_heat_map(df,label,qty_fields=10):\n",
    "    df = pd.concat([df[label],df.drop(label,axis=1)],axis=1)\n",
    "    correlation_matrix = df.corr()\n",
    "    index = correlation_matrix.sort_values(label, ascending=False).index\n",
    "    correlation_matrix = correlation_matrix[index].sort_values(label,ascending=False)\n",
    "\n",
    "    fig,ax = plt.subplots()\n",
    "    fig.set_size_inches((10,10))\n",
    "    sb.heatmap(correlation_matrix.iloc[:qty_fields,:qty_fields],annot=True,fmt='.2f',ax=ax)\n",
    "    return(fig,ax)"
   ]
  },
  {
   "cell_type": "code",
   "execution_count": 79,
   "metadata": {},
   "outputs": [
    {
     "data": {
      "image/png": "[encoded data removed]",
      "text/plain": [
       "<Figure size 720x720 with 2 Axes>"
      ]
     },
     "metadata": {
      "needs_background": "light"
     },
     "output_type": "display_data"
    }
   ],
   "source": [
    "# Correlation Plot\n",
    "plot_correlation_matrix_heat_map(data,'lbs_milk');\n",
    "# None of the variables are highly correlated"
   ]
  },
  {
   "cell_type": "markdown",
   "metadata": {},
   "source": [
    "#### Variance"
   ]
  },
  {
   "cell_type": "code",
   "execution_count": 80,
   "metadata": {
    "scrolled": false
   },
   "outputs": [
    {
     "data": {
      "text/plain": [
       "id_tag       8.287442e+06\n",
       "lactation    2.126601e+00\n",
       "lbs_milk     5.179369e+02\n",
       "dtype: float64"
      ]
     },
     "execution_count": 80,
     "metadata": {},
     "output_type": "execute_result"
    }
   ],
   "source": [
    "data.var()"
   ]
  },
  {
   "cell_type": "markdown",
   "metadata": {},
   "source": [
    "#### Outliers\n",
    "##### Boxplot"
   ]
  },
  {
   "cell_type": "code",
   "execution_count": 81,
   "metadata": {
    "scrolled": true
   },
   "outputs": [
    {
     "name": "stdout",
     "output_type": "stream",
     "text": [
      "An exception occurred for column: group\n",
      "An exception occurred for column: time\n"
     ]
    },
    {
     "data": {
      "image/png": "[encoded data removed]",
      "text/plain": [
       "<Figure size 432x288 with 1 Axes>"
      ]
     },
     "metadata": {
      "needs_background": "light"
     },
     "output_type": "display_data"
    },
    {
     "data": {
      "text/plain": [
       "<Figure size 432x288 with 0 Axes>"
      ]
     },
     "metadata": {},
     "output_type": "display_data"
    },
    {
     "data": {
      "image/png": "[encoded data removed]",
      "text/plain": [
       "<Figure size 432x288 with 1 Axes>"
      ]
     },
     "metadata": {
      "needs_background": "light"
     },
     "output_type": "display_data"
    },
    {
     "data": {
      "text/plain": [
       "<Figure size 432x288 with 0 Axes>"
      ]
     },
     "metadata": {},
     "output_type": "display_data"
    },
    {
     "data": {
      "image/png": "[encoded data removed]",
      "text/plain": [
       "<Figure size 432x288 with 1 Axes>"
      ]
     },
     "metadata": {
      "needs_background": "light"
     },
     "output_type": "display_data"
    }
   ],
   "source": [
    "i = 1\n",
    "for col in data.columns:\n",
    "    plt.figure(i)\n",
    "    try:\n",
    "        sb.boxplot(data=((data[col]-data[col].min())/(data[col].max()-data[col].min()))*100).set_title(col)\n",
    "    except:\n",
    "        print(\"An exception occurred for column: {}\".format(col))\n",
    "    i+=1\n",
    "\n",
    "# lbs_milk is the only variable that has some outliers, we will check z-scores to see how bad they are"
   ]
  },
  {
   "cell_type": "markdown",
   "metadata": {},
   "source": [
    "##### Z_scores"
   ]
  },
  {
   "cell_type": "code",
   "execution_count": 82,
   "metadata": {
    "scrolled": true
   },
   "outputs": [
    {
     "data": {
      "text/html": [
       "<div>\n",
       "<style scoped>\n",
       "    .dataframe tbody tr th:only-of-type {\n",
       "        vertical-align: middle;\n",
       "    }\n",
       "\n",
       "    .dataframe tbody tr th {\n",
       "        vertical-align: top;\n",
       "    }\n",
       "\n",
       "    .dataframe thead th {\n",
       "        text-align: right;\n",
       "    }\n",
       "</style>\n",
       "<table border=\"1\" class=\"dataframe\">\n",
       "  <thead>\n",
       "    <tr style=\"text-align: right;\">\n",
       "      <th></th>\n",
       "      <th>id_tag</th>\n",
       "      <th>lactation</th>\n",
       "      <th>lbs_milk</th>\n",
       "    </tr>\n",
       "  </thead>\n",
       "  <tbody>\n",
       "    <tr>\n",
       "      <th>count</th>\n",
       "      <td>7.440000e+02</td>\n",
       "      <td>7.440000e+02</td>\n",
       "      <td>7.440000e+02</td>\n",
       "    </tr>\n",
       "    <tr>\n",
       "      <th>mean</th>\n",
       "      <td>5.730183e-17</td>\n",
       "      <td>-1.169912e-16</td>\n",
       "      <td>-5.013910e-17</td>\n",
       "    </tr>\n",
       "    <tr>\n",
       "      <th>std</th>\n",
       "      <td>1.000673e+00</td>\n",
       "      <td>1.000673e+00</td>\n",
       "      <td>1.000673e+00</td>\n",
       "    </tr>\n",
       "    <tr>\n",
       "      <th>min</th>\n",
       "      <td>-1.733231e+00</td>\n",
       "      <td>-1.560546e+00</td>\n",
       "      <td>-2.295715e+00</td>\n",
       "    </tr>\n",
       "    <tr>\n",
       "      <th>25%</th>\n",
       "      <td>-8.851704e-01</td>\n",
       "      <td>-8.743483e-01</td>\n",
       "      <td>-6.997104e-01</td>\n",
       "    </tr>\n",
       "    <tr>\n",
       "      <th>50%</th>\n",
       "      <td>-6.346533e-03</td>\n",
       "      <td>-1.881509e-01</td>\n",
       "      <td>-6.507741e-02</td>\n",
       "    </tr>\n",
       "    <tr>\n",
       "      <th>75%</th>\n",
       "      <td>8.670895e-01</td>\n",
       "      <td>4.980465e-01</td>\n",
       "      <td>7.312754e-01</td>\n",
       "    </tr>\n",
       "    <tr>\n",
       "      <th>max</th>\n",
       "      <td>1.729228e+00</td>\n",
       "      <td>1.870441e+00</td>\n",
       "      <td>2.702843e+00</td>\n",
       "    </tr>\n",
       "  </tbody>\n",
       "</table>\n",
       "</div>"
      ],
      "text/plain": [
       "             id_tag     lactation      lbs_milk\n",
       "count  7.440000e+02  7.440000e+02  7.440000e+02\n",
       "mean   5.730183e-17 -1.169912e-16 -5.013910e-17\n",
       "std    1.000673e+00  1.000673e+00  1.000673e+00\n",
       "min   -1.733231e+00 -1.560546e+00 -2.295715e+00\n",
       "25%   -8.851704e-01 -8.743483e-01 -6.997104e-01\n",
       "50%   -6.346533e-03 -1.881509e-01 -6.507741e-02\n",
       "75%    8.670895e-01  4.980465e-01  7.312754e-01\n",
       "max    1.729228e+00  1.870441e+00  2.702843e+00"
      ]
     },
     "execution_count": 82,
     "metadata": {},
     "output_type": "execute_result"
    }
   ],
   "source": [
    "numeric_cols = data.select_dtypes(exclude=[object])\n",
    "zscores = numeric_cols.apply(zscore)\n",
    "zscores.describe()"
   ]
  },
  {
   "cell_type": "code",
   "execution_count": 83,
   "metadata": {
    "scrolled": false
   },
   "outputs": [
    {
     "data": {
      "text/plain": [
       "id_tag       0\n",
       "lactation    0\n",
       "lbs_milk     0\n",
       "dtype: int64"
      ]
     },
     "execution_count": 83,
     "metadata": {},
     "output_type": "execute_result"
    }
   ],
   "source": [
    "# Count the number of observations in each column that are above or below 3\n",
    "zscores[(np.abs(zscores > 3))].count()\n",
    "# No extreme outliers are found in the dataset"
   ]
  },
  {
   "cell_type": "markdown",
   "metadata": {},
   "source": [
    "#### Distributions  "
   ]
  },
  {
   "cell_type": "code",
   "execution_count": 84,
   "metadata": {
    "scrolled": true
   },
   "outputs": [
    {
     "name": "stdout",
     "output_type": "stream",
     "text": [
      "An exception occurred for column: group\n",
      "An exception occurred for column: time\n"
     ]
    },
    {
     "data": {
      "image/png": "[encoded data removed]",
      "text/plain": [
       "<Figure size 432x288 with 1 Axes>"
      ]
     },
     "metadata": {
      "needs_background": "light"
     },
     "output_type": "display_data"
    },
    {
     "data": {
      "text/plain": [
       "<Figure size 432x288 with 0 Axes>"
      ]
     },
     "metadata": {},
     "output_type": "display_data"
    },
    {
     "data": {
      "image/png": "[encoded data removed]",
      "text/plain": [
       "<Figure size 432x288 with 1 Axes>"
      ]
     },
     "metadata": {
      "needs_background": "light"
     },
     "output_type": "display_data"
    },
    {
     "data": {
      "text/plain": [
       "<Figure size 432x288 with 0 Axes>"
      ]
     },
     "metadata": {},
     "output_type": "display_data"
    },
    {
     "data": {
      "image/png": "[encoded data removed]",
      "text/plain": [
       "<Figure size 432x288 with 1 Axes>"
      ]
     },
     "metadata": {
      "needs_background": "light"
     },
     "output_type": "display_data"
    }
   ],
   "source": [
    "# Creating a histogram for each variable\n",
    "i = 1\n",
    "for col in data.columns:\n",
    "    plt.figure(i)\n",
    "    try:\n",
    "        data2=((data[col]-data[col].min())/(data[col].max()-data[col].min()))*100\n",
    "        data2.hist(bins=100)\n",
    "        plt.title(col)\n",
    "    except:\n",
    "        print(\"An exception occurred for column: {}\".format(col))\n",
    "    \n",
    "    i+=1\n",
    "plt.show()\n",
    "# lbs_milk appears to have a normal distribution, something we will check when doing t-tests"
   ]
  },
  {
   "cell_type": "markdown",
   "metadata": {
    "scrolled": true
   },
   "source": [
    "### Exploratory Plots"
   ]
  },
  {
   "cell_type": "code",
   "execution_count": 85,
   "metadata": {},
   "outputs": [
    {
     "data": {
      "text/html": [
       "<div>\n",
       "<style scoped>\n",
       "    .dataframe tbody tr th:only-of-type {\n",
       "        vertical-align: middle;\n",
       "    }\n",
       "\n",
       "    .dataframe tbody tr th {\n",
       "        vertical-align: top;\n",
       "    }\n",
       "\n",
       "    .dataframe thead tr th {\n",
       "        text-align: left;\n",
       "    }\n",
       "</style>\n",
       "<table border=\"1\" class=\"dataframe\">\n",
       "  <thead>\n",
       "    <tr>\n",
       "      <th></th>\n",
       "      <th>group</th>\n",
       "      <th colspan=\"8\" halign=\"left\">lactation</th>\n",
       "      <th colspan=\"8\" halign=\"left\">lbs_milk</th>\n",
       "    </tr>\n",
       "    <tr>\n",
       "      <th></th>\n",
       "      <th></th>\n",
       "      <th>count</th>\n",
       "      <th>mean</th>\n",
       "      <th>std</th>\n",
       "      <th>min</th>\n",
       "      <th>25%</th>\n",
       "      <th>50%</th>\n",
       "      <th>75%</th>\n",
       "      <th>max</th>\n",
       "      <th>count</th>\n",
       "      <th>mean</th>\n",
       "      <th>std</th>\n",
       "      <th>min</th>\n",
       "      <th>25%</th>\n",
       "      <th>50%</th>\n",
       "      <th>75%</th>\n",
       "      <th>max</th>\n",
       "    </tr>\n",
       "  </thead>\n",
       "  <tbody>\n",
       "    <tr>\n",
       "      <th>0</th>\n",
       "      <td>control</td>\n",
       "      <td>290.0</td>\n",
       "      <td>3.275862</td>\n",
       "      <td>1.447980</td>\n",
       "      <td>1.0</td>\n",
       "      <td>2.0</td>\n",
       "      <td>3.0</td>\n",
       "      <td>4.0</td>\n",
       "      <td>6.0</td>\n",
       "      <td>290.0</td>\n",
       "      <td>70.685696</td>\n",
       "      <td>22.586631</td>\n",
       "      <td>19.695821</td>\n",
       "      <td>54.404518</td>\n",
       "      <td>68.594685</td>\n",
       "      <td>87.576986</td>\n",
       "      <td>128.925687</td>\n",
       "    </tr>\n",
       "    <tr>\n",
       "      <th>1</th>\n",
       "      <td>treatment</td>\n",
       "      <td>82.0</td>\n",
       "      <td>3.268293</td>\n",
       "      <td>1.507584</td>\n",
       "      <td>1.0</td>\n",
       "      <td>2.0</td>\n",
       "      <td>3.0</td>\n",
       "      <td>4.0</td>\n",
       "      <td>6.0</td>\n",
       "      <td>82.0</td>\n",
       "      <td>70.673106</td>\n",
       "      <td>22.762022</td>\n",
       "      <td>21.601491</td>\n",
       "      <td>58.666763</td>\n",
       "      <td>70.004174</td>\n",
       "      <td>84.070447</td>\n",
       "      <td>126.971576</td>\n",
       "    </tr>\n",
       "  </tbody>\n",
       "</table>\n",
       "</div>"
      ],
      "text/plain": [
       "       group lactation                                              lbs_milk  \\\n",
       "                 count      mean       std  min  25%  50%  75%  max    count   \n",
       "0    control     290.0  3.275862  1.447980  1.0  2.0  3.0  4.0  6.0    290.0   \n",
       "1  treatment      82.0  3.268293  1.507584  1.0  2.0  3.0  4.0  6.0     82.0   \n",
       "\n",
       "                                                                     \\\n",
       "        mean        std        min        25%        50%        75%   \n",
       "0  70.685696  22.586631  19.695821  54.404518  68.594685  87.576986   \n",
       "1  70.673106  22.762022  21.601491  58.666763  70.004174  84.070447   \n",
       "\n",
       "               \n",
       "          max  \n",
       "0  128.925687  \n",
       "1  126.971576  "
      ]
     },
     "execution_count": 85,
     "metadata": {},
     "output_type": "execute_result"
    }
   ],
   "source": [
    "# Checking that the two groups had similar descriptive statistics prior to the feed change\n",
    "before = data[(data.time == \"before\")]\n",
    "before.groupby(\"group\")[['lactation','lbs_milk']].describe().reset_index()\n",
    "# The summary statistics are very similar for the two group. \n",
    "# The average lactation for both groups is just over 3.\n",
    "# The average milk production for both groups is around 70 pounds(treatment is 70.67 & control is 70.69).\n",
    "# This shows that both groups were fairly similar prior to the experiment."
   ]
  },
  {
   "cell_type": "code",
   "execution_count": 86,
   "metadata": {},
   "outputs": [
    {
     "data": {
      "text/html": [
       "<div>\n",
       "<style scoped>\n",
       "    .dataframe tbody tr th:only-of-type {\n",
       "        vertical-align: middle;\n",
       "    }\n",
       "\n",
       "    .dataframe tbody tr th {\n",
       "        vertical-align: top;\n",
       "    }\n",
       "\n",
       "    .dataframe thead tr th {\n",
       "        text-align: left;\n",
       "    }\n",
       "</style>\n",
       "<table border=\"1\" class=\"dataframe\">\n",
       "  <thead>\n",
       "    <tr>\n",
       "      <th></th>\n",
       "      <th>group</th>\n",
       "      <th colspan=\"8\" halign=\"left\">lactation</th>\n",
       "      <th colspan=\"8\" halign=\"left\">lbs_milk</th>\n",
       "    </tr>\n",
       "    <tr>\n",
       "      <th></th>\n",
       "      <th></th>\n",
       "      <th>count</th>\n",
       "      <th>mean</th>\n",
       "      <th>std</th>\n",
       "      <th>min</th>\n",
       "      <th>25%</th>\n",
       "      <th>50%</th>\n",
       "      <th>75%</th>\n",
       "      <th>max</th>\n",
       "      <th>count</th>\n",
       "      <th>mean</th>\n",
       "      <th>std</th>\n",
       "      <th>min</th>\n",
       "      <th>25%</th>\n",
       "      <th>50%</th>\n",
       "      <th>75%</th>\n",
       "      <th>max</th>\n",
       "    </tr>\n",
       "  </thead>\n",
       "  <tbody>\n",
       "    <tr>\n",
       "      <th>0</th>\n",
       "      <td>control</td>\n",
       "      <td>290.0</td>\n",
       "      <td>3.275862</td>\n",
       "      <td>1.447980</td>\n",
       "      <td>1.0</td>\n",
       "      <td>2.0</td>\n",
       "      <td>3.0</td>\n",
       "      <td>4.0</td>\n",
       "      <td>6.0</td>\n",
       "      <td>290.0</td>\n",
       "      <td>70.705413</td>\n",
       "      <td>22.792211</td>\n",
       "      <td>19.143847</td>\n",
       "      <td>54.304518</td>\n",
       "      <td>68.276555</td>\n",
       "      <td>88.013901</td>\n",
       "      <td>132.825686</td>\n",
       "    </tr>\n",
       "    <tr>\n",
       "      <th>1</th>\n",
       "      <td>treatment</td>\n",
       "      <td>82.0</td>\n",
       "      <td>3.268293</td>\n",
       "      <td>1.507584</td>\n",
       "      <td>1.0</td>\n",
       "      <td>2.0</td>\n",
       "      <td>3.0</td>\n",
       "      <td>4.0</td>\n",
       "      <td>6.0</td>\n",
       "      <td>82.0</td>\n",
       "      <td>76.702374</td>\n",
       "      <td>22.948929</td>\n",
       "      <td>27.817756</td>\n",
       "      <td>62.640494</td>\n",
       "      <td>77.161425</td>\n",
       "      <td>91.251929</td>\n",
       "      <td>125.085610</td>\n",
       "    </tr>\n",
       "  </tbody>\n",
       "</table>\n",
       "</div>"
      ],
      "text/plain": [
       "       group lactation                                              lbs_milk  \\\n",
       "                 count      mean       std  min  25%  50%  75%  max    count   \n",
       "0    control     290.0  3.275862  1.447980  1.0  2.0  3.0  4.0  6.0    290.0   \n",
       "1  treatment      82.0  3.268293  1.507584  1.0  2.0  3.0  4.0  6.0     82.0   \n",
       "\n",
       "                                                                     \\\n",
       "        mean        std        min        25%        50%        75%   \n",
       "0  70.705413  22.792211  19.143847  54.304518  68.276555  88.013901   \n",
       "1  76.702374  22.948929  27.817756  62.640494  77.161425  91.251929   \n",
       "\n",
       "               \n",
       "          max  \n",
       "0  132.825686  \n",
       "1  125.085610  "
      ]
     },
     "execution_count": 86,
     "metadata": {},
     "output_type": "execute_result"
    }
   ],
   "source": [
    "# Downselecting data to only the data from the after the feed was changed\n",
    "df = data[(data.time == \"after\")]\n",
    "df.groupby(\"group\")[['lactation','lbs_milk']].describe().reset_index()\n",
    "# From the descriptive statistics, it appears that the feed may have had an impact on the cows.\n",
    "# The control group did not see their mean production change much, while the treatment group saw close to a 7 pound increase."
   ]
  },
  {
   "cell_type": "code",
   "execution_count": 87,
   "metadata": {},
   "outputs": [
    {
     "name": "stdout",
     "output_type": "stream",
     "text": [
      "     id_tag      group  lactation    time    lbs_milk  time_num\n",
      "0        22    control          5   after   65.987920         1\n",
      "1        59    control          4   after   63.668600         1\n",
      "2        90    control          2   after   78.158056         1\n",
      "3       144    control          5   after   75.672886         1\n",
      "4       193    control          1   after   99.385129         1\n",
      "..      ...        ...        ...     ...         ...       ...\n",
      "739    9572  treatment          1  before  126.971576         0\n",
      "740    9804  treatment          5  before   81.648054         0\n",
      "741    9815  treatment          3  before   46.122312         0\n",
      "742    9840  treatment          2  before   34.573092         0\n",
      "743    9879  treatment          4  before   40.693990         0\n",
      "\n",
      "[744 rows x 6 columns]\n"
     ]
    }
   ],
   "source": [
    "def time_to_numeric(x):\n",
    "      if x=='before': return 0\n",
    "      if x=='after':   return 1\n",
    "\n",
    "data['time_num'] = data['time'].apply(time_to_numeric)\n",
    "print(data)"
   ]
  },
  {
   "cell_type": "code",
   "execution_count": 88,
   "metadata": {},
   "outputs": [
    {
     "data": {
      "image/png": "[encoded data removed]",
      "text/plain": [
       "<Figure size 445.875x360 with 1 Axes>"
      ]
     },
     "metadata": {
      "needs_background": "light"
     },
     "output_type": "display_data"
    },
    {
     "data": {
      "image/png": "[encoded data removed]",
      "text/plain": [
       "<Figure size 445.875x360 with 1 Axes>"
      ]
     },
     "metadata": {
      "needs_background": "light"
     },
     "output_type": "display_data"
    }
   ],
   "source": [
    "# Plotting the data\n",
    "sb.displot(df, x=\"lbs_milk\", hue=\"group\");\n",
    "sb.displot(df, x=\"lbs_milk\", hue=\"group\", kind=\"kde\");\n",
    "# The plots below show that the density for the treatment group's production skews towards higher production.\n",
    "# This is another indication that the feed may have had its intended effect"
   ]
  },
  {
   "cell_type": "markdown",
   "metadata": {},
   "source": [
    "### Two Sample T-test"
   ]
  },
  {
   "cell_type": "code",
   "execution_count": 89,
   "metadata": {},
   "outputs": [],
   "source": [
    "# Splitting the groups for testing\n",
    "control = df[(df.group == 'control')]\n",
    "treat = df[(df.group == 'treatment')]"
   ]
  },
  {
   "cell_type": "code",
   "execution_count": 90,
   "metadata": {},
   "outputs": [],
   "source": [
    "control = np.array(control.lbs_milk, dtype=float)\n",
    "treat = np.array(treat.lbs_milk, dtype=float)"
   ]
  },
  {
   "cell_type": "code",
   "execution_count": 91,
   "metadata": {},
   "outputs": [
    {
     "name": "stdout",
     "output_type": "stream",
     "text": [
      "517.6935469768109 520.2307626280179\n"
     ]
    }
   ],
   "source": [
    "# Checking the variance of groups\n",
    "print(np.var(control), np.var(treat))"
   ]
  },
  {
   "cell_type": "code",
   "execution_count": 92,
   "metadata": {},
   "outputs": [
    {
     "name": "stdout",
     "output_type": "stream",
     "text": [
      "stat=0.991, p=0.070\n",
      "Probably Gaussian\n"
     ]
    }
   ],
   "source": [
    "stat, p = shapiro(control)\n",
    "print('stat=%.3f, p=%.3f' % (stat, p))\n",
    "if p > 0.05:\n",
    "    print('Probably Gaussian')\n",
    "else:\n",
    "    print('Probably not Gaussian')"
   ]
  },
  {
   "cell_type": "code",
   "execution_count": 93,
   "metadata": {},
   "outputs": [
    {
     "name": "stdout",
     "output_type": "stream",
     "text": [
      "stat=0.985, p=0.449\n",
      "Probably Gaussian\n"
     ]
    }
   ],
   "source": [
    "stat, p = shapiro(treat)\n",
    "print('stat=%.3f, p=%.3f' % (stat, p))\n",
    "if p > 0.05:\n",
    "\tprint('Probably Gaussian')\n",
    "else:\n",
    "\tprint('Probably not Gaussian')"
   ]
  },
  {
   "cell_type": "code",
   "execution_count": 94,
   "metadata": {},
   "outputs": [
    {
     "data": {
      "text/plain": [
       "Ttest_indResult(statistic=-2.1005074968257498, pvalue=0.03636054012840316)"
      ]
     },
     "execution_count": 94,
     "metadata": {},
     "output_type": "execute_result"
    }
   ],
   "source": [
    "# Performing the t-test\n",
    "ttest_ind(control, treat, equal_var=True)\n",
    "# The p-value < 0.05"
   ]
  },
  {
   "cell_type": "markdown",
   "metadata": {},
   "source": [
    "### Paired Sample T-test"
   ]
  },
  {
   "cell_type": "code",
   "execution_count": 95,
   "metadata": {},
   "outputs": [],
   "source": [
    "# Splitting the time for testing for only the treatment group\n",
    "before = data[(data.time == 'before') & (data.group == 'treatment')]\n",
    "after = data[(data.time == 'after') & (data.group == 'treatment')]"
   ]
  },
  {
   "cell_type": "code",
   "execution_count": 96,
   "metadata": {},
   "outputs": [],
   "source": [
    "before = np.array(before.lbs_milk, dtype=float)\n",
    "after = np.array(after.lbs_milk, dtype=float)"
   ]
  },
  {
   "cell_type": "code",
   "execution_count": 97,
   "metadata": {},
   "outputs": [
    {
     "name": "stdout",
     "output_type": "stream",
     "text": [
      "511.7912354183079 520.2307626280179\n"
     ]
    }
   ],
   "source": [
    "# Checking the variance of groups\n",
    "print(np.var(before), np.var(after))"
   ]
  },
  {
   "cell_type": "code",
   "execution_count": 98,
   "metadata": {},
   "outputs": [
    {
     "name": "stdout",
     "output_type": "stream",
     "text": [
      "stat=0.990, p=0.786\n",
      "Probably Gaussian\n"
     ]
    }
   ],
   "source": [
    "stat, p = shapiro(before)\n",
    "print('stat=%.3f, p=%.3f' % (stat, p))\n",
    "if p > 0.05:\n",
    "    print('Probably Gaussian')\n",
    "else:\n",
    "    print('Probably not Gaussian')"
   ]
  },
  {
   "cell_type": "code",
   "execution_count": 99,
   "metadata": {},
   "outputs": [
    {
     "name": "stdout",
     "output_type": "stream",
     "text": [
      "stat=0.985, p=0.449\n",
      "Probably Gaussian\n"
     ]
    }
   ],
   "source": [
    "stat, p = shapiro(after)\n",
    "print('stat=%.3f, p=%.3f' % (stat, p))\n",
    "if p > 0.05:\n",
    "    print('Probably Gaussian')\n",
    "else:\n",
    "    print('Probably not Gaussian')"
   ]
  },
  {
   "cell_type": "code",
   "execution_count": 100,
   "metadata": {},
   "outputs": [
    {
     "data": {
      "text/plain": [
       "Ttest_relResult(statistic=-9.629071310688566, pvalue=4.550531765263073e-15)"
      ]
     },
     "execution_count": 100,
     "metadata": {},
     "output_type": "execute_result"
    }
   ],
   "source": [
    "# Performing the t-test\n",
    "ttest_rel(before, after)\n",
    "# The p-value < 0.05"
   ]
  },
  {
   "cell_type": "markdown",
   "metadata": {},
   "source": [
    "### Cost Benefit\n",
    "* At the time of the experiment, the cost of feed per ton was \\\\$325  \n",
    "* The extra cost of the feed additive was \\\\$50 dollars per ton\n",
    "* The price of milk per hundredweight(cwt) is \\\\$15.00\n",
    "* A single cow will eat approximately 25 lbs of feed per day\n",
    "* From our results, the average cow that received the feed additive produced approximately 6 more lbs per day"
   ]
  },
  {
   "cell_type": "code",
   "execution_count": 101,
   "metadata": {},
   "outputs": [
    {
     "name": "stdout",
     "output_type": "stream",
     "text": [
      "Feed cost per day - no additive: 4.0625\n",
      "Feed cost per day - with additive: 4.6875\n",
      "The additional cost per cow per day for the new feed is 0.625 dollars\n"
     ]
    }
   ],
   "source": [
    "# The difference in price per cow per day of feed\n",
    "cost_before = ((325/2000) * 25)\n",
    "print(f\"Feed cost per day - no additive: {cost_before}\")\n",
    "cost_after = (((325+50)/2000) * 25)\n",
    "print(f\"Feed cost per day - with additive: {cost_after}\")\n",
    "extra_cost = (cost_after-cost_before)\n",
    "print(f\"The additional cost per cow per day for the new feed is {extra_cost} dollars\")"
   ]
  },
  {
   "cell_type": "code",
   "execution_count": 108,
   "metadata": {},
   "outputs": [
    {
     "name": "stdout",
     "output_type": "stream",
     "text": [
      "The additional revenue per cow per day for the new feed is 0.9 dollars\n"
     ]
    }
   ],
   "source": [
    "# Calculate the increase in the milk check per cow per day\n",
    "extra_rev = round((15/100) * 6,2)\n",
    "print(f'The additional revenue per cow per day for the new feed is {extra_rev} dollars')"
   ]
  },
  {
   "cell_type": "code",
   "execution_count": 112,
   "metadata": {},
   "outputs": [
    {
     "name": "stdout",
     "output_type": "stream",
     "text": [
      "The cost benefit is 0.28 dollars\n",
      "The farmer should pay for the new feed additive\n"
     ]
    }
   ],
   "source": [
    "# The difference between the extra cost and the extra revenue\n",
    "diff = round(extra_rev - extra_cost,2)\n",
    "print(f'The cost benefit is {diff} dollars')\n",
    "if diff > 0:\n",
    "    print('The farmer should pay for the new feed additive')\n",
    "else:\n",
    "    print('The farmer should stay with the current feed')"
   ]
  },
  {
   "cell_type": "code",
   "execution_count": 113,
   "metadata": {},
   "outputs": [
    {
     "name": "stdout",
     "output_type": "stream",
     "text": [
      "The increased revenue for an entire month is $3124.8\n"
     ]
    }
   ],
   "source": [
    "monthly = round((diff*372)*30,2)\n",
    "print(f'The increased revenue for an entire month is ${monthly}')"
   ]
  },
  {
   "cell_type": "markdown",
   "metadata": {},
   "source": [
    "## Experiment Outcomes"
   ]
  },
  {
   "cell_type": "markdown",
   "metadata": {},
   "source": [
    "### Hypothesis Testing"
   ]
  },
  {
   "cell_type": "markdown",
   "metadata": {},
   "source": [
    "- Two Sample T-test: The result for the t-test returned a p-value of 0.0364. Since the p-value < 0.05, I can reject the null hypothesis that the two feeds were the same. I have shown that the difference in milk production between the control and treatment groups is statistically significant.\n",
    "- Paired Sample T-test: I thought it might be fun to do a paired t-test since I had the data available in this dataset already. The result of this test returned a p-value of 0.000. The p-value is once again less than 0.05, so I can say that it is statistically significant at the 5% level. In addition, the p-value < 0.01, so I can affirmatively reject the null hypothesis that the two feeds were the same at both the 1% and 5% significance level. The difference in milk production from the two time periods within the treatment group is statistically significant. \n",
    "- The results of both tests confirm that the new feed has a positive, statistically significant impact on the milk production of the cows!"
   ]
  },
  {
   "cell_type": "markdown",
   "metadata": {},
   "source": [
    "### Cost-Benefit Analysis"
   ]
  },
  {
   "cell_type": "markdown",
   "metadata": {},
   "source": [
    " - The result of the simplified cost-benefit analysis show that there is an increase in revenue of 0.28 dollars per day per cow for the farm if they utilize the new feed. While that may not seem like a lot of money, it becomes a fairly large amount when spread across the entire herd for an entire month. As shown above, the increased revenue for an entire month when using the new feed over the old feed is approximately \\\\$3,100."
   ]
  },
  {
   "cell_type": "markdown",
   "metadata": {},
   "source": [
    "### Final Decision"
   ]
  },
  {
   "cell_type": "markdown",
   "metadata": {},
   "source": [
    "**Decision:** The dairy farm **should** switch to the new feed with the additive. While expenses will increase slightly, the increase in revenue far outweights the increased price for the feed."
   ]
  }
 ],
 "metadata": {
  "kernelspec": {
   "display_name": "Python 3",
   "language": "python",
   "name": "python3"
  },
  "language_info": {
   "codemirror_mode": {
    "name": "ipython",
    "version": 3
   },
   "file_extension": ".py",
   "mimetype": "text/x-python",
   "name": "python",
   "nbconvert_exporter": "python",
   "pygments_lexer": "ipython3",
   "version": "3.7.6"
  }
 },
 "nbformat": 4,
 "nbformat_minor": 4
}
